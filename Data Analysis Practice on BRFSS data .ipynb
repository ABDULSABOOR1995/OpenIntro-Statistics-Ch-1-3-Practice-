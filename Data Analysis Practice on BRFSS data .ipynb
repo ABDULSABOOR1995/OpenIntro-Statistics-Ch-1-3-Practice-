{
 "cells": [
  {
   "cell_type": "markdown",
   "metadata": {},
   "source": [
    "# Data Analysis "
   ]
  },
  {
   "cell_type": "markdown",
   "metadata": {},
   "source": [
    "## Read Data "
   ]
  },
  {
   "cell_type": "markdown",
   "metadata": {},
   "source": [
    "<a id='goback'></a>\n",
    "## Table of Content:\n",
    "[1. Histogram (Density Plot) & Quantile Quantile (q-q)Plot](#h1)<br>\n",
    "[2. Applying Rescaling (Statistical Transformation)](#h2)<br>\n",
    "[3. Function for creating histogram df](#h3)<br>\n",
    "[4. Box Plot](#h4)<br>\n",
    "> [4(i). Function for box plot description (percentile method)](#h4.1)\n"
   ]
  },
  {
   "cell_type": "markdown",
   "metadata": {},
   "source": [
    "[5. Scatter & Regression](#h5)<br>\n",
    "> [5(i). Methos to find best correlation variables](#h5.1)\n"
   ]
  },
  {
   "cell_type": "markdown",
   "metadata": {},
   "source": [
    "[6. Bar chart](#h6)<br>\n",
    "[7. Side by side box plot](#h7)<br>\n",
    "[8. Row & column proportion](#h8)<br>\n",
    "> [8(i). Row proportion Function](#h8.1)<br>\n",
    "[8(ii). Column proportion Function](#h8.2)<br>\n"
   ]
  },
  {
   "cell_type": "markdown",
   "metadata": {},
   "source": [
    "[9. Stacked Bar chart OR Segmented bar plot](#h9)<br>\n",
    "> [9(i). Stacked Bar chart with numbers](#h9.1)<br>\n",
    "[9(ii). Stacked Bar chart with proportion](#h9.2)<br>\n"
   ]
  },
  {
   "cell_type": "code",
   "execution_count": 167,
   "metadata": {},
   "outputs": [],
   "source": [
    "import pandas as pd\n",
    "import numpy as np"
   ]
  },
  {
   "cell_type": "code",
   "execution_count": 168,
   "metadata": {},
   "outputs": [],
   "source": [
    "df = pd.read_csv(\"E:/DS projects csv files/brfss_2013.csv\")"
   ]
  },
  {
   "cell_type": "markdown",
   "metadata": {},
   "source": [
    "## Basic Understanding of data "
   ]
  },
  {
   "cell_type": "code",
   "execution_count": 172,
   "metadata": {},
   "outputs": [
    {
     "data": {
      "text/html": [
       "<div>\n",
       "<style scoped>\n",
       "    .dataframe tbody tr th:only-of-type {\n",
       "        vertical-align: middle;\n",
       "    }\n",
       "\n",
       "    .dataframe tbody tr th {\n",
       "        vertical-align: top;\n",
       "    }\n",
       "\n",
       "    .dataframe thead th {\n",
       "        text-align: right;\n",
       "    }\n",
       "</style>\n",
       "<table border=\"1\" class=\"dataframe\">\n",
       "  <thead>\n",
       "    <tr style=\"text-align: right;\">\n",
       "      <th></th>\n",
       "      <th>_STATE</th>\n",
       "      <th>FMONTH</th>\n",
       "      <th>IDATE</th>\n",
       "      <th>IMONTH</th>\n",
       "      <th>IDAY</th>\n",
       "      <th>IYEAR</th>\n",
       "      <th>DISPCODE</th>\n",
       "      <th>SEQNO</th>\n",
       "      <th>_PSU</th>\n",
       "      <th>CTELENUM</th>\n",
       "      <th>...</th>\n",
       "      <th>_AGE80</th>\n",
       "      <th>_IMPEDUC</th>\n",
       "      <th>_IMPMRTL</th>\n",
       "      <th>_IMPHOME</th>\n",
       "      <th>RCSBRAC1</th>\n",
       "      <th>RCSRACE1</th>\n",
       "      <th>RCHISLA1</th>\n",
       "      <th>RCSBIRTH</th>\n",
       "      <th>TYPEINDS</th>\n",
       "      <th>TYPEWORK</th>\n",
       "    </tr>\n",
       "  </thead>\n",
       "  <tbody>\n",
       "    <tr>\n",
       "      <td>0</td>\n",
       "      <td>1.0</td>\n",
       "      <td>1.0</td>\n",
       "      <td>b'01092013'</td>\n",
       "      <td>b'01'</td>\n",
       "      <td>b'09'</td>\n",
       "      <td>b'2013'</td>\n",
       "      <td>1100.0</td>\n",
       "      <td>2.013001e+09</td>\n",
       "      <td>2.013001e+09</td>\n",
       "      <td>1.0</td>\n",
       "      <td>...</td>\n",
       "      <td>60.0</td>\n",
       "      <td>6.0</td>\n",
       "      <td>2.0</td>\n",
       "      <td>1.0</td>\n",
       "      <td>NaN</td>\n",
       "      <td>b''</td>\n",
       "      <td>b''</td>\n",
       "      <td>b''</td>\n",
       "      <td>b''</td>\n",
       "      <td>b''</td>\n",
       "    </tr>\n",
       "    <tr>\n",
       "      <td>1</td>\n",
       "      <td>1.0</td>\n",
       "      <td>1.0</td>\n",
       "      <td>b'01192013'</td>\n",
       "      <td>b'01'</td>\n",
       "      <td>b'19'</td>\n",
       "      <td>b'2013'</td>\n",
       "      <td>1100.0</td>\n",
       "      <td>2.013001e+09</td>\n",
       "      <td>2.013001e+09</td>\n",
       "      <td>1.0</td>\n",
       "      <td>...</td>\n",
       "      <td>50.0</td>\n",
       "      <td>5.0</td>\n",
       "      <td>1.0</td>\n",
       "      <td>1.0</td>\n",
       "      <td>NaN</td>\n",
       "      <td>b''</td>\n",
       "      <td>b''</td>\n",
       "      <td>b''</td>\n",
       "      <td>b''</td>\n",
       "      <td>b''</td>\n",
       "    </tr>\n",
       "    <tr>\n",
       "      <td>2</td>\n",
       "      <td>1.0</td>\n",
       "      <td>1.0</td>\n",
       "      <td>b'01192013'</td>\n",
       "      <td>b'01'</td>\n",
       "      <td>b'19'</td>\n",
       "      <td>b'2013'</td>\n",
       "      <td>1100.0</td>\n",
       "      <td>2.013001e+09</td>\n",
       "      <td>2.013001e+09</td>\n",
       "      <td>1.0</td>\n",
       "      <td>...</td>\n",
       "      <td>55.0</td>\n",
       "      <td>6.0</td>\n",
       "      <td>1.0</td>\n",
       "      <td>1.0</td>\n",
       "      <td>NaN</td>\n",
       "      <td>b''</td>\n",
       "      <td>b''</td>\n",
       "      <td>b''</td>\n",
       "      <td>b''</td>\n",
       "      <td>b''</td>\n",
       "    </tr>\n",
       "    <tr>\n",
       "      <td>3</td>\n",
       "      <td>1.0</td>\n",
       "      <td>1.0</td>\n",
       "      <td>b'01112013'</td>\n",
       "      <td>b'01'</td>\n",
       "      <td>b'11'</td>\n",
       "      <td>b'2013'</td>\n",
       "      <td>1100.0</td>\n",
       "      <td>2.013001e+09</td>\n",
       "      <td>2.013001e+09</td>\n",
       "      <td>1.0</td>\n",
       "      <td>...</td>\n",
       "      <td>64.0</td>\n",
       "      <td>4.0</td>\n",
       "      <td>1.0</td>\n",
       "      <td>1.0</td>\n",
       "      <td>NaN</td>\n",
       "      <td>b''</td>\n",
       "      <td>b''</td>\n",
       "      <td>b''</td>\n",
       "      <td>b''</td>\n",
       "      <td>b''</td>\n",
       "    </tr>\n",
       "    <tr>\n",
       "      <td>4</td>\n",
       "      <td>1.0</td>\n",
       "      <td>2.0</td>\n",
       "      <td>b'02062013'</td>\n",
       "      <td>b'02'</td>\n",
       "      <td>b'06'</td>\n",
       "      <td>b'2013'</td>\n",
       "      <td>1100.0</td>\n",
       "      <td>2.013001e+09</td>\n",
       "      <td>2.013001e+09</td>\n",
       "      <td>1.0</td>\n",
       "      <td>...</td>\n",
       "      <td>66.0</td>\n",
       "      <td>6.0</td>\n",
       "      <td>1.0</td>\n",
       "      <td>1.0</td>\n",
       "      <td>NaN</td>\n",
       "      <td>b''</td>\n",
       "      <td>b''</td>\n",
       "      <td>b''</td>\n",
       "      <td>b''</td>\n",
       "      <td>b''</td>\n",
       "    </tr>\n",
       "  </tbody>\n",
       "</table>\n",
       "<p>5 rows × 336 columns</p>\n",
       "</div>"
      ],
      "text/plain": [
       "   _STATE  FMONTH        IDATE IMONTH   IDAY    IYEAR  DISPCODE         SEQNO  \\\n",
       "0     1.0     1.0  b'01092013'  b'01'  b'09'  b'2013'    1100.0  2.013001e+09   \n",
       "1     1.0     1.0  b'01192013'  b'01'  b'19'  b'2013'    1100.0  2.013001e+09   \n",
       "2     1.0     1.0  b'01192013'  b'01'  b'19'  b'2013'    1100.0  2.013001e+09   \n",
       "3     1.0     1.0  b'01112013'  b'01'  b'11'  b'2013'    1100.0  2.013001e+09   \n",
       "4     1.0     2.0  b'02062013'  b'02'  b'06'  b'2013'    1100.0  2.013001e+09   \n",
       "\n",
       "           _PSU  CTELENUM  ...  _AGE80  _IMPEDUC  _IMPMRTL  _IMPHOME  \\\n",
       "0  2.013001e+09       1.0  ...    60.0       6.0       2.0       1.0   \n",
       "1  2.013001e+09       1.0  ...    50.0       5.0       1.0       1.0   \n",
       "2  2.013001e+09       1.0  ...    55.0       6.0       1.0       1.0   \n",
       "3  2.013001e+09       1.0  ...    64.0       4.0       1.0       1.0   \n",
       "4  2.013001e+09       1.0  ...    66.0       6.0       1.0       1.0   \n",
       "\n",
       "   RCSBRAC1  RCSRACE1  RCHISLA1  RCSBIRTH  TYPEINDS  TYPEWORK  \n",
       "0       NaN       b''       b''       b''       b''       b''  \n",
       "1       NaN       b''       b''       b''       b''       b''  \n",
       "2       NaN       b''       b''       b''       b''       b''  \n",
       "3       NaN       b''       b''       b''       b''       b''  \n",
       "4       NaN       b''       b''       b''       b''       b''  \n",
       "\n",
       "[5 rows x 336 columns]"
      ]
     },
     "execution_count": 172,
     "metadata": {},
     "output_type": "execute_result"
    }
   ],
   "source": [
    "df.head()"
   ]
  },
  {
   "cell_type": "code",
   "execution_count": 173,
   "metadata": {},
   "outputs": [
    {
     "data": {
      "text/html": [
       "<div>\n",
       "<style scoped>\n",
       "    .dataframe tbody tr th:only-of-type {\n",
       "        vertical-align: middle;\n",
       "    }\n",
       "\n",
       "    .dataframe tbody tr th {\n",
       "        vertical-align: top;\n",
       "    }\n",
       "\n",
       "    .dataframe thead th {\n",
       "        text-align: right;\n",
       "    }\n",
       "</style>\n",
       "<table border=\"1\" class=\"dataframe\">\n",
       "  <thead>\n",
       "    <tr style=\"text-align: right;\">\n",
       "      <th></th>\n",
       "      <th>_STATE</th>\n",
       "      <th>FMONTH</th>\n",
       "      <th>IDATE</th>\n",
       "      <th>IMONTH</th>\n",
       "      <th>IDAY</th>\n",
       "      <th>IYEAR</th>\n",
       "      <th>DISPCODE</th>\n",
       "      <th>SEQNO</th>\n",
       "      <th>_PSU</th>\n",
       "      <th>CTELENUM</th>\n",
       "      <th>...</th>\n",
       "      <th>_AGE80</th>\n",
       "      <th>_IMPEDUC</th>\n",
       "      <th>_IMPMRTL</th>\n",
       "      <th>_IMPHOME</th>\n",
       "      <th>RCSBRAC1</th>\n",
       "      <th>RCSRACE1</th>\n",
       "      <th>RCHISLA1</th>\n",
       "      <th>RCSBIRTH</th>\n",
       "      <th>TYPEINDS</th>\n",
       "      <th>TYPEWORK</th>\n",
       "    </tr>\n",
       "  </thead>\n",
       "  <tbody>\n",
       "    <tr>\n",
       "      <td>491768</td>\n",
       "      <td>72.0</td>\n",
       "      <td>11.0</td>\n",
       "      <td>b'12072013'</td>\n",
       "      <td>b'12'</td>\n",
       "      <td>b'07'</td>\n",
       "      <td>b'2013'</td>\n",
       "      <td>1100.0</td>\n",
       "      <td>2.013006e+09</td>\n",
       "      <td>2.013006e+09</td>\n",
       "      <td>1.0</td>\n",
       "      <td>...</td>\n",
       "      <td>38.0</td>\n",
       "      <td>6.0</td>\n",
       "      <td>6.0</td>\n",
       "      <td>1.0</td>\n",
       "      <td>NaN</td>\n",
       "      <td>b''</td>\n",
       "      <td>b''</td>\n",
       "      <td>b''</td>\n",
       "      <td>b''</td>\n",
       "      <td>b''</td>\n",
       "    </tr>\n",
       "    <tr>\n",
       "      <td>491769</td>\n",
       "      <td>72.0</td>\n",
       "      <td>11.0</td>\n",
       "      <td>b'12102013'</td>\n",
       "      <td>b'12'</td>\n",
       "      <td>b'10'</td>\n",
       "      <td>b'2013'</td>\n",
       "      <td>1100.0</td>\n",
       "      <td>2.013006e+09</td>\n",
       "      <td>2.013006e+09</td>\n",
       "      <td>1.0</td>\n",
       "      <td>...</td>\n",
       "      <td>55.0</td>\n",
       "      <td>4.0</td>\n",
       "      <td>1.0</td>\n",
       "      <td>1.0</td>\n",
       "      <td>NaN</td>\n",
       "      <td>b''</td>\n",
       "      <td>b''</td>\n",
       "      <td>b''</td>\n",
       "      <td>b''</td>\n",
       "      <td>b''</td>\n",
       "    </tr>\n",
       "    <tr>\n",
       "      <td>491770</td>\n",
       "      <td>72.0</td>\n",
       "      <td>11.0</td>\n",
       "      <td>b'12102013'</td>\n",
       "      <td>b'12'</td>\n",
       "      <td>b'10'</td>\n",
       "      <td>b'2013'</td>\n",
       "      <td>1100.0</td>\n",
       "      <td>2.013006e+09</td>\n",
       "      <td>2.013006e+09</td>\n",
       "      <td>1.0</td>\n",
       "      <td>...</td>\n",
       "      <td>39.0</td>\n",
       "      <td>6.0</td>\n",
       "      <td>1.0</td>\n",
       "      <td>1.0</td>\n",
       "      <td>NaN</td>\n",
       "      <td>b''</td>\n",
       "      <td>b''</td>\n",
       "      <td>b''</td>\n",
       "      <td>b''</td>\n",
       "      <td>b''</td>\n",
       "    </tr>\n",
       "    <tr>\n",
       "      <td>491771</td>\n",
       "      <td>72.0</td>\n",
       "      <td>12.0</td>\n",
       "      <td>b'12272013'</td>\n",
       "      <td>b'12'</td>\n",
       "      <td>b'27'</td>\n",
       "      <td>b'2013'</td>\n",
       "      <td>1100.0</td>\n",
       "      <td>2.013006e+09</td>\n",
       "      <td>2.013006e+09</td>\n",
       "      <td>1.0</td>\n",
       "      <td>...</td>\n",
       "      <td>35.0</td>\n",
       "      <td>6.0</td>\n",
       "      <td>1.0</td>\n",
       "      <td>3.0</td>\n",
       "      <td>NaN</td>\n",
       "      <td>b''</td>\n",
       "      <td>b''</td>\n",
       "      <td>b''</td>\n",
       "      <td>b''</td>\n",
       "      <td>b''</td>\n",
       "    </tr>\n",
       "    <tr>\n",
       "      <td>491772</td>\n",
       "      <td>72.0</td>\n",
       "      <td>12.0</td>\n",
       "      <td>b'12272013'</td>\n",
       "      <td>b'12'</td>\n",
       "      <td>b'27'</td>\n",
       "      <td>b'2013'</td>\n",
       "      <td>1100.0</td>\n",
       "      <td>2.013006e+09</td>\n",
       "      <td>2.013006e+09</td>\n",
       "      <td>1.0</td>\n",
       "      <td>...</td>\n",
       "      <td>62.0</td>\n",
       "      <td>5.0</td>\n",
       "      <td>3.0</td>\n",
       "      <td>1.0</td>\n",
       "      <td>NaN</td>\n",
       "      <td>b''</td>\n",
       "      <td>b''</td>\n",
       "      <td>b''</td>\n",
       "      <td>b''</td>\n",
       "      <td>b''</td>\n",
       "    </tr>\n",
       "  </tbody>\n",
       "</table>\n",
       "<p>5 rows × 336 columns</p>\n",
       "</div>"
      ],
      "text/plain": [
       "        _STATE  FMONTH        IDATE IMONTH   IDAY    IYEAR  DISPCODE  \\\n",
       "491768    72.0    11.0  b'12072013'  b'12'  b'07'  b'2013'    1100.0   \n",
       "491769    72.0    11.0  b'12102013'  b'12'  b'10'  b'2013'    1100.0   \n",
       "491770    72.0    11.0  b'12102013'  b'12'  b'10'  b'2013'    1100.0   \n",
       "491771    72.0    12.0  b'12272013'  b'12'  b'27'  b'2013'    1100.0   \n",
       "491772    72.0    12.0  b'12272013'  b'12'  b'27'  b'2013'    1100.0   \n",
       "\n",
       "               SEQNO          _PSU  CTELENUM  ...  _AGE80  _IMPEDUC  _IMPMRTL  \\\n",
       "491768  2.013006e+09  2.013006e+09       1.0  ...    38.0       6.0       6.0   \n",
       "491769  2.013006e+09  2.013006e+09       1.0  ...    55.0       4.0       1.0   \n",
       "491770  2.013006e+09  2.013006e+09       1.0  ...    39.0       6.0       1.0   \n",
       "491771  2.013006e+09  2.013006e+09       1.0  ...    35.0       6.0       1.0   \n",
       "491772  2.013006e+09  2.013006e+09       1.0  ...    62.0       5.0       3.0   \n",
       "\n",
       "        _IMPHOME  RCSBRAC1  RCSRACE1  RCHISLA1  RCSBIRTH  TYPEINDS  TYPEWORK  \n",
       "491768       1.0       NaN       b''       b''       b''       b''       b''  \n",
       "491769       1.0       NaN       b''       b''       b''       b''       b''  \n",
       "491770       1.0       NaN       b''       b''       b''       b''       b''  \n",
       "491771       3.0       NaN       b''       b''       b''       b''       b''  \n",
       "491772       1.0       NaN       b''       b''       b''       b''       b''  \n",
       "\n",
       "[5 rows x 336 columns]"
      ]
     },
     "execution_count": 173,
     "metadata": {},
     "output_type": "execute_result"
    }
   ],
   "source": [
    "df.tail()"
   ]
  },
  {
   "cell_type": "code",
   "execution_count": 174,
   "metadata": {},
   "outputs": [
    {
     "data": {
      "text/plain": [
       "Index(['_STATE', 'FMONTH', 'IDATE', 'IMONTH', 'IDAY', 'IYEAR', 'DISPCODE',\n",
       "       'SEQNO', '_PSU', 'CTELENUM',\n",
       "       ...\n",
       "       '_AGE80', '_IMPEDUC', '_IMPMRTL', '_IMPHOME', 'RCSBRAC1', 'RCSRACE1',\n",
       "       'RCHISLA1', 'RCSBIRTH', 'TYPEINDS', 'TYPEWORK'],\n",
       "      dtype='object', length=336)"
      ]
     },
     "execution_count": 174,
     "metadata": {},
     "output_type": "execute_result"
    }
   ],
   "source": [
    "df.columns"
   ]
  },
  {
   "cell_type": "code",
   "execution_count": 175,
   "metadata": {},
   "outputs": [
    {
     "data": {
      "text/plain": [
       "491773"
      ]
     },
     "execution_count": 175,
     "metadata": {},
     "output_type": "execute_result"
    }
   ],
   "source": [
    "len(df)"
   ]
  },
  {
   "cell_type": "code",
   "execution_count": 176,
   "metadata": {},
   "outputs": [
    {
     "data": {
      "text/plain": [
       "_STATE      float64\n",
       "FMONTH      float64\n",
       "IDATE        object\n",
       "IMONTH       object\n",
       "IDAY         object\n",
       "             ...   \n",
       "RCSRACE1     object\n",
       "RCHISLA1     object\n",
       "RCSBIRTH     object\n",
       "TYPEINDS     object\n",
       "TYPEWORK     object\n",
       "Length: 336, dtype: object"
      ]
     },
     "execution_count": 176,
     "metadata": {},
     "output_type": "execute_result"
    }
   ],
   "source": [
    "df.dtypes"
   ]
  },
  {
   "cell_type": "code",
   "execution_count": 177,
   "metadata": {
    "scrolled": true
   },
   "outputs": [
    {
     "data": {
      "text/html": [
       "<div>\n",
       "<style scoped>\n",
       "    .dataframe tbody tr th:only-of-type {\n",
       "        vertical-align: middle;\n",
       "    }\n",
       "\n",
       "    .dataframe tbody tr th {\n",
       "        vertical-align: top;\n",
       "    }\n",
       "\n",
       "    .dataframe thead th {\n",
       "        text-align: right;\n",
       "    }\n",
       "</style>\n",
       "<table border=\"1\" class=\"dataframe\">\n",
       "  <thead>\n",
       "    <tr style=\"text-align: right;\">\n",
       "      <th></th>\n",
       "      <th>_STATE</th>\n",
       "      <th>FMONTH</th>\n",
       "      <th>DISPCODE</th>\n",
       "      <th>SEQNO</th>\n",
       "      <th>_PSU</th>\n",
       "      <th>CTELENUM</th>\n",
       "      <th>PVTRESD1</th>\n",
       "      <th>COLGHOUS</th>\n",
       "      <th>STATERES</th>\n",
       "      <th>CELLFON3</th>\n",
       "      <th>...</th>\n",
       "      <th>_RFSEAT2</th>\n",
       "      <th>_RFSEAT3</th>\n",
       "      <th>_FLSHOT6</th>\n",
       "      <th>_PNEUMO2</th>\n",
       "      <th>_AIDTST3</th>\n",
       "      <th>_AGE80</th>\n",
       "      <th>_IMPEDUC</th>\n",
       "      <th>_IMPMRTL</th>\n",
       "      <th>_IMPHOME</th>\n",
       "      <th>RCSBRAC1</th>\n",
       "    </tr>\n",
       "  </thead>\n",
       "  <tbody>\n",
       "    <tr>\n",
       "      <td>count</td>\n",
       "      <td>491773.000000</td>\n",
       "      <td>491773.000000</td>\n",
       "      <td>491773.000000</td>\n",
       "      <td>4.917730e+05</td>\n",
       "      <td>4.917730e+05</td>\n",
       "      <td>491737.0</td>\n",
       "      <td>360079.000000</td>\n",
       "      <td>44.0</td>\n",
       "      <td>360071.0</td>\n",
       "      <td>356564.0</td>\n",
       "      <td>...</td>\n",
       "      <td>491773.000000</td>\n",
       "      <td>491773.000000</td>\n",
       "      <td>165431.000000</td>\n",
       "      <td>165431.000000</td>\n",
       "      <td>452956.000000</td>\n",
       "      <td>491773.000000</td>\n",
       "      <td>491773.000000</td>\n",
       "      <td>491773.000000</td>\n",
       "      <td>491773.000000</td>\n",
       "      <td>0.0</td>\n",
       "    </tr>\n",
       "    <tr>\n",
       "      <td>mean</td>\n",
       "      <td>29.070636</td>\n",
       "      <td>6.373064</td>\n",
       "      <td>1111.906510</td>\n",
       "      <td>2.013006e+09</td>\n",
       "      <td>2.013006e+09</td>\n",
       "      <td>1.0</td>\n",
       "      <td>1.000122</td>\n",
       "      <td>1.0</td>\n",
       "      <td>1.0</td>\n",
       "      <td>1.0</td>\n",
       "      <td>...</td>\n",
       "      <td>1.687947</td>\n",
       "      <td>1.758104</td>\n",
       "      <td>2.147868</td>\n",
       "      <td>2.357067</td>\n",
       "      <td>1.951885</td>\n",
       "      <td>54.782522</td>\n",
       "      <td>4.853382</td>\n",
       "      <td>2.228225</td>\n",
       "      <td>1.315768</td>\n",
       "      <td>NaN</td>\n",
       "    </tr>\n",
       "    <tr>\n",
       "      <td>std</td>\n",
       "      <td>15.527832</td>\n",
       "      <td>3.442377</td>\n",
       "      <td>32.386542</td>\n",
       "      <td>5.508544e+03</td>\n",
       "      <td>5.508544e+03</td>\n",
       "      <td>0.0</td>\n",
       "      <td>0.011054</td>\n",
       "      <td>0.0</td>\n",
       "      <td>0.0</td>\n",
       "      <td>0.0</td>\n",
       "      <td>...</td>\n",
       "      <td>2.155820</td>\n",
       "      <td>2.148550</td>\n",
       "      <td>2.336748</td>\n",
       "      <td>2.677154</td>\n",
       "      <td>1.412048</td>\n",
       "      <td>17.032423</td>\n",
       "      <td>1.056415</td>\n",
       "      <td>1.582558</td>\n",
       "      <td>0.549435</td>\n",
       "      <td>NaN</td>\n",
       "    </tr>\n",
       "    <tr>\n",
       "      <td>min</td>\n",
       "      <td>1.000000</td>\n",
       "      <td>1.000000</td>\n",
       "      <td>1100.000000</td>\n",
       "      <td>2.013000e+09</td>\n",
       "      <td>2.013000e+09</td>\n",
       "      <td>1.0</td>\n",
       "      <td>1.000000</td>\n",
       "      <td>1.0</td>\n",
       "      <td>1.0</td>\n",
       "      <td>1.0</td>\n",
       "      <td>...</td>\n",
       "      <td>1.000000</td>\n",
       "      <td>1.000000</td>\n",
       "      <td>1.000000</td>\n",
       "      <td>1.000000</td>\n",
       "      <td>1.000000</td>\n",
       "      <td>18.000000</td>\n",
       "      <td>1.000000</td>\n",
       "      <td>1.000000</td>\n",
       "      <td>1.000000</td>\n",
       "      <td>NaN</td>\n",
       "    </tr>\n",
       "    <tr>\n",
       "      <td>25%</td>\n",
       "      <td>17.000000</td>\n",
       "      <td>3.000000</td>\n",
       "      <td>1100.000000</td>\n",
       "      <td>2.013002e+09</td>\n",
       "      <td>2.013002e+09</td>\n",
       "      <td>1.0</td>\n",
       "      <td>1.000000</td>\n",
       "      <td>1.0</td>\n",
       "      <td>1.0</td>\n",
       "      <td>1.0</td>\n",
       "      <td>...</td>\n",
       "      <td>1.000000</td>\n",
       "      <td>1.000000</td>\n",
       "      <td>1.000000</td>\n",
       "      <td>1.000000</td>\n",
       "      <td>1.000000</td>\n",
       "      <td>42.000000</td>\n",
       "      <td>4.000000</td>\n",
       "      <td>1.000000</td>\n",
       "      <td>1.000000</td>\n",
       "      <td>NaN</td>\n",
       "    </tr>\n",
       "    <tr>\n",
       "      <td>50%</td>\n",
       "      <td>27.000000</td>\n",
       "      <td>6.000000</td>\n",
       "      <td>1100.000000</td>\n",
       "      <td>2.013005e+09</td>\n",
       "      <td>2.013005e+09</td>\n",
       "      <td>1.0</td>\n",
       "      <td>1.000000</td>\n",
       "      <td>1.0</td>\n",
       "      <td>1.0</td>\n",
       "      <td>1.0</td>\n",
       "      <td>...</td>\n",
       "      <td>1.000000</td>\n",
       "      <td>1.000000</td>\n",
       "      <td>1.000000</td>\n",
       "      <td>1.000000</td>\n",
       "      <td>2.000000</td>\n",
       "      <td>57.000000</td>\n",
       "      <td>5.000000</td>\n",
       "      <td>1.000000</td>\n",
       "      <td>1.000000</td>\n",
       "      <td>NaN</td>\n",
       "    </tr>\n",
       "    <tr>\n",
       "      <td>75%</td>\n",
       "      <td>41.000000</td>\n",
       "      <td>9.000000</td>\n",
       "      <td>1100.000000</td>\n",
       "      <td>2.013008e+09</td>\n",
       "      <td>2.013008e+09</td>\n",
       "      <td>1.0</td>\n",
       "      <td>1.000000</td>\n",
       "      <td>1.0</td>\n",
       "      <td>1.0</td>\n",
       "      <td>1.0</td>\n",
       "      <td>...</td>\n",
       "      <td>1.000000</td>\n",
       "      <td>1.000000</td>\n",
       "      <td>2.000000</td>\n",
       "      <td>2.000000</td>\n",
       "      <td>2.000000</td>\n",
       "      <td>68.000000</td>\n",
       "      <td>6.000000</td>\n",
       "      <td>3.000000</td>\n",
       "      <td>2.000000</td>\n",
       "      <td>NaN</td>\n",
       "    </tr>\n",
       "    <tr>\n",
       "      <td>max</td>\n",
       "      <td>72.000000</td>\n",
       "      <td>12.000000</td>\n",
       "      <td>1200.000000</td>\n",
       "      <td>2.013034e+09</td>\n",
       "      <td>2.013034e+09</td>\n",
       "      <td>1.0</td>\n",
       "      <td>2.000000</td>\n",
       "      <td>1.0</td>\n",
       "      <td>1.0</td>\n",
       "      <td>1.0</td>\n",
       "      <td>...</td>\n",
       "      <td>9.000000</td>\n",
       "      <td>9.000000</td>\n",
       "      <td>9.000000</td>\n",
       "      <td>9.000000</td>\n",
       "      <td>9.000000</td>\n",
       "      <td>80.000000</td>\n",
       "      <td>6.000000</td>\n",
       "      <td>6.000000</td>\n",
       "      <td>3.000000</td>\n",
       "      <td>NaN</td>\n",
       "    </tr>\n",
       "  </tbody>\n",
       "</table>\n",
       "<p>8 rows × 324 columns</p>\n",
       "</div>"
      ],
      "text/plain": [
       "              _STATE         FMONTH       DISPCODE         SEQNO  \\\n",
       "count  491773.000000  491773.000000  491773.000000  4.917730e+05   \n",
       "mean       29.070636       6.373064    1111.906510  2.013006e+09   \n",
       "std        15.527832       3.442377      32.386542  5.508544e+03   \n",
       "min         1.000000       1.000000    1100.000000  2.013000e+09   \n",
       "25%        17.000000       3.000000    1100.000000  2.013002e+09   \n",
       "50%        27.000000       6.000000    1100.000000  2.013005e+09   \n",
       "75%        41.000000       9.000000    1100.000000  2.013008e+09   \n",
       "max        72.000000      12.000000    1200.000000  2.013034e+09   \n",
       "\n",
       "               _PSU  CTELENUM       PVTRESD1  COLGHOUS  STATERES  CELLFON3  \\\n",
       "count  4.917730e+05  491737.0  360079.000000      44.0  360071.0  356564.0   \n",
       "mean   2.013006e+09       1.0       1.000122       1.0       1.0       1.0   \n",
       "std    5.508544e+03       0.0       0.011054       0.0       0.0       0.0   \n",
       "min    2.013000e+09       1.0       1.000000       1.0       1.0       1.0   \n",
       "25%    2.013002e+09       1.0       1.000000       1.0       1.0       1.0   \n",
       "50%    2.013005e+09       1.0       1.000000       1.0       1.0       1.0   \n",
       "75%    2.013008e+09       1.0       1.000000       1.0       1.0       1.0   \n",
       "max    2.013034e+09       1.0       2.000000       1.0       1.0       1.0   \n",
       "\n",
       "       ...       _RFSEAT2       _RFSEAT3       _FLSHOT6       _PNEUMO2  \\\n",
       "count  ...  491773.000000  491773.000000  165431.000000  165431.000000   \n",
       "mean   ...       1.687947       1.758104       2.147868       2.357067   \n",
       "std    ...       2.155820       2.148550       2.336748       2.677154   \n",
       "min    ...       1.000000       1.000000       1.000000       1.000000   \n",
       "25%    ...       1.000000       1.000000       1.000000       1.000000   \n",
       "50%    ...       1.000000       1.000000       1.000000       1.000000   \n",
       "75%    ...       1.000000       1.000000       2.000000       2.000000   \n",
       "max    ...       9.000000       9.000000       9.000000       9.000000   \n",
       "\n",
       "            _AIDTST3         _AGE80       _IMPEDUC       _IMPMRTL  \\\n",
       "count  452956.000000  491773.000000  491773.000000  491773.000000   \n",
       "mean        1.951885      54.782522       4.853382       2.228225   \n",
       "std         1.412048      17.032423       1.056415       1.582558   \n",
       "min         1.000000      18.000000       1.000000       1.000000   \n",
       "25%         1.000000      42.000000       4.000000       1.000000   \n",
       "50%         2.000000      57.000000       5.000000       1.000000   \n",
       "75%         2.000000      68.000000       6.000000       3.000000   \n",
       "max         9.000000      80.000000       6.000000       6.000000   \n",
       "\n",
       "            _IMPHOME  RCSBRAC1  \n",
       "count  491773.000000       0.0  \n",
       "mean        1.315768       NaN  \n",
       "std         0.549435       NaN  \n",
       "min         1.000000       NaN  \n",
       "25%         1.000000       NaN  \n",
       "50%         1.000000       NaN  \n",
       "75%         2.000000       NaN  \n",
       "max         3.000000       NaN  \n",
       "\n",
       "[8 rows x 324 columns]"
      ]
     },
     "execution_count": 177,
     "metadata": {},
     "output_type": "execute_result"
    }
   ],
   "source": [
    "df.describe()"
   ]
  },
  {
   "cell_type": "code",
   "execution_count": 178,
   "metadata": {},
   "outputs": [
    {
     "name": "stdout",
     "output_type": "stream",
     "text": [
      "<class 'pandas.core.frame.DataFrame'>\n",
      "RangeIndex: 491773 entries, 0 to 491772\n",
      "Columns: 336 entries, _STATE to TYPEWORK\n",
      "dtypes: float64(324), object(12)\n",
      "memory usage: 1.2+ GB\n"
     ]
    }
   ],
   "source": [
    "df.info()"
   ]
  },
  {
   "cell_type": "markdown",
   "metadata": {},
   "source": [
    "[Go back](#goback)"
   ]
  },
  {
   "cell_type": "markdown",
   "metadata": {},
   "source": [
    "<a id='h1'></a>\n",
    "### 1- Histogram (Density Plot) & Quantile Quantile (q-q)Plot "
   ]
  },
  {
   "cell_type": "code",
   "execution_count": 10,
   "metadata": {},
   "outputs": [
    {
     "data": {
      "text/plain": [
       "0    1.0\n",
       "1    1.0\n",
       "2    1.0\n",
       "3    1.0\n",
       "4    1.0\n",
       "Name: _STATE, dtype: float64"
      ]
     },
     "execution_count": 10,
     "metadata": {},
     "output_type": "execute_result"
    }
   ],
   "source": [
    "df['_STATE'].head()"
   ]
  },
  {
   "cell_type": "code",
   "execution_count": 11,
   "metadata": {},
   "outputs": [
    {
     "data": {
      "text/plain": [
       "12.0    34186\n",
       "20.0    23282\n",
       "31.0    17139\n",
       "25.0    15071\n",
       "27.0    14340\n",
       "8.0     13649\n",
       "34.0    13386\n",
       "24.0    13011\n",
       "49.0    12769\n",
       "26.0    12759\n",
       "39.0    11971\n",
       "6.0     11518\n",
       "42.0    11429\n",
       "53.0    11162\n",
       "21.0    11013\n",
       "48.0    10917\n",
       "45.0    10717\n",
       "18.0    10338\n",
       "30.0     9693\n",
       "35.0     9316\n",
       "36.0     8979\n",
       "37.0     8860\n",
       "51.0     8464\n",
       "40.0     8244\n",
       "19.0     8157\n",
       "13.0     8138\n",
       "23.0     8097\n",
       "15.0     7858\n",
       "38.0     7806\n",
       "9.0      7710\n",
       "28.0     7453\n",
       "29.0     7118\n",
       "46.0     6895\n",
       "55.0     6589\n",
       "44.0     6531\n",
       "1.0      6503\n",
       "33.0     6463\n",
       "56.0     6454\n",
       "50.0     6392\n",
       "72.0     6011\n",
       "41.0     5949\n",
       "54.0     5899\n",
       "47.0     5815\n",
       "16.0     5630\n",
       "17.0     5608\n",
       "5.0      5268\n",
       "22.0     5251\n",
       "10.0     5206\n",
       "32.0     5101\n",
       "11.0     4931\n",
       "2.0      4578\n",
       "4.0      4252\n",
       "66.0     1897\n",
       "Name: _STATE, dtype: int64"
      ]
     },
     "execution_count": 11,
     "metadata": {},
     "output_type": "execute_result"
    }
   ],
   "source": [
    "df['_STATE'].value_counts()"
   ]
  },
  {
   "cell_type": "code",
   "execution_count": 12,
   "metadata": {},
   "outputs": [
    {
     "data": {
      "text/plain": [
       "dtype('float64')"
      ]
     },
     "execution_count": 12,
     "metadata": {},
     "output_type": "execute_result"
    }
   ],
   "source": [
    "df['_STATE'].dtype"
   ]
  },
  {
   "cell_type": "code",
   "execution_count": 13,
   "metadata": {},
   "outputs": [
    {
     "data": {
      "text/plain": [
       "72.0"
      ]
     },
     "execution_count": 13,
     "metadata": {},
     "output_type": "execute_result"
    }
   ],
   "source": [
    "df['_STATE'].max()"
   ]
  },
  {
   "cell_type": "code",
   "execution_count": 14,
   "metadata": {},
   "outputs": [
    {
     "data": {
      "text/plain": [
       "1.0"
      ]
     },
     "execution_count": 14,
     "metadata": {},
     "output_type": "execute_result"
    }
   ],
   "source": [
    "df['_STATE'].min()"
   ]
  },
  {
   "cell_type": "code",
   "execution_count": 15,
   "metadata": {},
   "outputs": [
    {
     "data": {
      "text/plain": [
       "(29.070636248838387, 15.527832289716184)"
      ]
     },
     "execution_count": 15,
     "metadata": {},
     "output_type": "execute_result"
    }
   ],
   "source": [
    "df['_STATE'].mean(),df['_STATE'].std()"
   ]
  },
  {
   "cell_type": "code",
   "execution_count": 16,
   "metadata": {},
   "outputs": [],
   "source": [
    "hist,bin_edges = np.histogram(df['_STATE'])"
   ]
  },
  {
   "cell_type": "code",
   "execution_count": 17,
   "metadata": {},
   "outputs": [
    {
     "data": {
      "text/plain": [
       "array([ 1.,  8., 15., 22., 29., 36., 44., 51., 58., 65., 72.])"
      ]
     },
     "execution_count": 17,
     "metadata": {},
     "output_type": "execute_result"
    }
   ],
   "source": [
    "# lets round the bin edges\n",
    "bin_edges = np.round(bin_edges,0)\n",
    "bin_edges"
   ]
  },
  {
   "cell_type": "code",
   "execution_count": 179,
   "metadata": {},
   "outputs": [
    {
     "data": {
      "text/plain": [
       "<matplotlib.axes._subplots.AxesSubplot at 0xa96c2ce10>"
      ]
     },
     "execution_count": 179,
     "metadata": {},
     "output_type": "execute_result"
    },
    {
     "data": {
      "image/png": "[encoded data removed]",
      "text/plain": [
       "<Figure size 432x288 with 1 Axes>"
      ]
     },
     "metadata": {},
     "output_type": "display_data"
    }
   ],
   "source": [
    "# Density Plot and Histogram of sates\n",
    "\n",
    "import seaborn as sns\n",
    "sns.distplot(df['_STATE'], hist=True, kde=True,\n",
    "             bins = bin_edges,\n",
    "             color = 'darkblue', \n",
    "             hist_kws={'edgecolor':'black'},\n",
    "             kde_kws={'linewidth': 4})"
   ]
  },
  {
   "cell_type": "code",
   "execution_count": 19,
   "metadata": {},
   "outputs": [
    {
     "data": {
      "image/png": "[encoded data removed]",
      "text/plain": [
       "<Figure size 432x288 with 1 Axes>"
      ]
     },
     "metadata": {
      "needs_background": "light"
     },
     "output_type": "display_data"
    }
   ],
   "source": [
    "# q-q plot for above distribution\n",
    "\n",
    "from statsmodels.graphics.gofplots import qqplot\n",
    "import statsmodels.api as sm\n",
    "#import statsmodels.formula.api as sm\n",
    "import pylab\n",
    "\n",
    "sm.qqplot(df['_STATE'], line='45')\n",
    "pylab.show()\n"
   ]
  },
  {
   "cell_type": "markdown",
   "metadata": {},
   "source": [
    "[Go back](#goback)"
   ]
  },
  {
   "cell_type": "markdown",
   "metadata": {},
   "source": [
    "<a id='h2'></a>\n",
    "### 2- Applying Rescaling(Statistical Transformations)"
   ]
  },
  {
   "cell_type": "code",
   "execution_count": 20,
   "metadata": {},
   "outputs": [
    {
     "data": {
      "text/plain": [
       "<matplotlib.axes._subplots.AxesSubplot at 0xa9538bcf8>"
      ]
     },
     "execution_count": 20,
     "metadata": {},
     "output_type": "execute_result"
    },
    {
     "data": {
      "image/png": "[encoded data removed]",
      "text/plain": [
       "<Figure size 432x288 with 1 Axes>"
      ]
     },
     "metadata": {
      "needs_background": "light"
     },
     "output_type": "display_data"
    }
   ],
   "source": [
    "# (i) apply log transformation\n",
    "\n",
    "a = np.log(df['_STATE'])\n",
    "\n",
    "hist,bin_edges = np.histogram(a)\n",
    "\n",
    "sns.distplot(a, hist=True, kde=True,\n",
    "             bins = bin_edges,\n",
    "             color = 'darkblue', \n",
    "             hist_kws={'edgecolor':'black'},\n",
    "             kde_kws={'linewidth': 4})"
   ]
  },
  {
   "cell_type": "code",
   "execution_count": 21,
   "metadata": {},
   "outputs": [
    {
     "data": {
      "image/png": "[encoded data removed]",
      "text/plain": [
       "<Figure size 432x288 with 1 Axes>"
      ]
     },
     "metadata": {
      "needs_background": "light"
     },
     "output_type": "display_data"
    }
   ],
   "source": [
    "sm.qqplot(a, line='45')\n",
    "pylab.show()\n"
   ]
  },
  {
   "cell_type": "code",
   "execution_count": 180,
   "metadata": {},
   "outputs": [
    {
     "data": {
      "text/plain": [
       "<matplotlib.axes._subplots.AxesSubplot at 0xa96c15e10>"
      ]
     },
     "execution_count": 180,
     "metadata": {},
     "output_type": "execute_result"
    },
    {
     "data": {
      "image/png": "[encoded data removed]",
      "text/plain": [
       "<Figure size 432x288 with 1 Axes>"
      ]
     },
     "metadata": {},
     "output_type": "display_data"
    }
   ],
   "source": [
    "# (ii)apply sqrt transformation\n",
    "\n",
    "a = np.sqrt(df['_STATE'])\n",
    "\n",
    "hist,bin_edges = np.histogram(a)\n",
    "\n",
    "sns.distplot(a, hist=True, kde=True,\n",
    "             bins = bin_edges,\n",
    "             color = 'darkblue', \n",
    "             hist_kws={'edgecolor':'black'},\n",
    "             kde_kws={'linewidth': 4})"
   ]
  },
  {
   "cell_type": "code",
   "execution_count": 23,
   "metadata": {},
   "outputs": [
    {
     "data": {
      "image/png": "[encoded data removed]",
      "text/plain": [
       "<Figure size 432x288 with 1 Axes>"
      ]
     },
     "metadata": {
      "needs_background": "light"
     },
     "output_type": "display_data"
    }
   ],
   "source": [
    "sm.qqplot(a, line='45')\n",
    "pylab.show()"
   ]
  },
  {
   "cell_type": "code",
   "execution_count": 181,
   "metadata": {},
   "outputs": [
    {
     "data": {
      "text/plain": [
       "<matplotlib.axes._subplots.AxesSubplot at 0xa99759c88>"
      ]
     },
     "execution_count": 181,
     "metadata": {},
     "output_type": "execute_result"
    },
    {
     "data": {
      "image/png": "[encoded data removed]",
      "text/plain": [
       "<Figure size 432x288 with 1 Axes>"
      ]
     },
     "metadata": {},
     "output_type": "display_data"
    }
   ],
   "source": [
    "# (iii)applying cube root transformation\n",
    "\n",
    "a = np.cbrt(df['_STATE'])\n",
    "\n",
    "hist,bin_edges = np.histogram(a)\n",
    "\n",
    "sns.distplot(a, hist=True, kde=True,\n",
    "             bins = bin_edges,\n",
    "             color = 'darkblue', \n",
    "             hist_kws={'edgecolor':'black'},\n",
    "             kde_kws={'linewidth': 4})"
   ]
  },
  {
   "cell_type": "code",
   "execution_count": 182,
   "metadata": {},
   "outputs": [
    {
     "data": {
      "image/png": "[encoded data removed]",
      "text/plain": [
       "<Figure size 432x288 with 1 Axes>"
      ]
     },
     "metadata": {},
     "output_type": "display_data"
    }
   ],
   "source": [
    "sm.qqplot(a, line='45')\n",
    "pylab.show()"
   ]
  },
  {
   "cell_type": "code",
   "execution_count": 26,
   "metadata": {},
   "outputs": [
    {
     "data": {
      "text/plain": [
       "<matplotlib.axes._subplots.AxesSubplot at 0xa95707668>"
      ]
     },
     "execution_count": 26,
     "metadata": {},
     "output_type": "execute_result"
    },
    {
     "data": {
      "image/png": "[encoded data removed]",
      "text/plain": [
       "<Figure size 432x288 with 1 Axes>"
      ]
     },
     "metadata": {
      "needs_background": "light"
     },
     "output_type": "display_data"
    }
   ],
   "source": [
    "# apply inverse transformation\n",
    "\n",
    "a = 1/df['_STATE']\n",
    "\n",
    "hist,bin_edges = np.histogram(a)\n",
    "\n",
    "sns.distplot(a, hist=True, kde=True,\n",
    "             bins = bin_edges,\n",
    "             color = 'darkblue', \n",
    "             hist_kws={'edgecolor':'black'},\n",
    "             kde_kws={'linewidth': 4})"
   ]
  },
  {
   "cell_type": "code",
   "execution_count": 183,
   "metadata": {},
   "outputs": [
    {
     "data": {
      "text/plain": [
       "<matplotlib.axes._subplots.AxesSubplot at 0xa99918668>"
      ]
     },
     "execution_count": 183,
     "metadata": {},
     "output_type": "execute_result"
    },
    {
     "data": {
      "image/png": "[encoded data removed]",
      "text/plain": [
       "<Figure size 432x288 with 1 Axes>"
      ]
     },
     "metadata": {},
     "output_type": "display_data"
    }
   ],
   "source": [
    "# (iv)apply binned transformation\n",
    "\n",
    "a = df['_STATE']\n",
    "\n",
    "hist,bin_edges = np.histogram(a, 4) # is parameter ko change kar kar k dekh sakte hain\n",
    "\n",
    "bin_edges = np.round(bin_edges,0)\n",
    "\n",
    "sns.distplot(a, hist=True, kde = True,\n",
    "             bins = bin_edges,\n",
    "             color = 'darkblue', \n",
    "             hist_kws={'edgecolor':'black'},\n",
    "             kde_kws={'linewidth': 4})\n"
   ]
  },
  {
   "cell_type": "code",
   "execution_count": 184,
   "metadata": {},
   "outputs": [
    {
     "data": {
      "image/png": "[encoded data removed]",
      "text/plain": [
       "<Figure size 432x288 with 1 Axes>"
      ]
     },
     "metadata": {},
     "output_type": "display_data"
    }
   ],
   "source": [
    "sm.qqplot(a, line='45')\n",
    "pylab.show()"
   ]
  },
  {
   "cell_type": "code",
   "execution_count": 29,
   "metadata": {},
   "outputs": [],
   "source": [
    "# now we make histogram of 2 more numerical vars"
   ]
  },
  {
   "cell_type": "code",
   "execution_count": 30,
   "metadata": {},
   "outputs": [
    {
     "data": {
      "text/plain": [
       "_STATE      float64\n",
       "FMONTH      float64\n",
       "IDATE        object\n",
       "IMONTH       object\n",
       "IDAY         object\n",
       "IYEAR        object\n",
       "DISPCODE    float64\n",
       "SEQNO       float64\n",
       "_PSU        float64\n",
       "CTELENUM    float64\n",
       "dtype: object"
      ]
     },
     "execution_count": 30,
     "metadata": {},
     "output_type": "execute_result"
    }
   ],
   "source": [
    "df.dtypes.head(10)"
   ]
  },
  {
   "cell_type": "code",
   "execution_count": 31,
   "metadata": {},
   "outputs": [],
   "source": [
    "# first check df"
   ]
  },
  {
   "cell_type": "code",
   "execution_count": 32,
   "metadata": {},
   "outputs": [
    {
     "data": {
      "text/plain": [
       "0    1.0\n",
       "1    1.0\n",
       "2    1.0\n",
       "3    1.0\n",
       "4    2.0\n",
       "Name: FMONTH, dtype: float64"
      ]
     },
     "execution_count": 32,
     "metadata": {},
     "output_type": "execute_result"
    }
   ],
   "source": [
    "df['FMONTH'].head()"
   ]
  },
  {
   "cell_type": "code",
   "execution_count": 33,
   "metadata": {},
   "outputs": [
    {
     "data": {
      "text/plain": [
       "7.0     47639\n",
       "1.0     46003\n",
       "10.0    45007\n",
       "4.0     44861\n",
       "2.0     40549\n",
       "3.0     40314\n",
       "8.0     39660\n",
       "5.0     39362\n",
       "11.0    38348\n",
       "6.0     37118\n",
       "9.0     36833\n",
       "12.0    36079\n",
       "Name: FMONTH, dtype: int64"
      ]
     },
     "execution_count": 33,
     "metadata": {},
     "output_type": "execute_result"
    }
   ],
   "source": [
    "df['FMONTH'].value_counts()"
   ]
  },
  {
   "cell_type": "markdown",
   "metadata": {},
   "source": [
    "[Go back](#goback)"
   ]
  },
  {
   "cell_type": "markdown",
   "metadata": {},
   "source": [
    "<a id='h3'></a>\n",
    "### 3- Function for creating Histogram info df"
   ]
  },
  {
   "cell_type": "code",
   "execution_count": 34,
   "metadata": {},
   "outputs": [],
   "source": [
    "# function for making histogram of a var\n",
    "\n",
    "def make_hist_df(hist, bin_edges):\n",
    "    \n",
    "    range_list = []\n",
    "    count_list = []\n",
    "\n",
    "    for i in range(len(hist)):\n",
    "\n",
    "        range_list.append(str(bin_edges[i])+\" - \"+str(bin_edges[i+1]))\n",
    "\n",
    "        count_list.append(hist[i])\n",
    "        \n",
    "    histogram_df = pd.DataFrame({\"Ranges(Bin-edges)\": range_list,\n",
    "                            \"Count(hist)\": count_list})\n",
    "\n",
    "    return histogram_df"
   ]
  },
  {
   "cell_type": "code",
   "execution_count": 35,
   "metadata": {},
   "outputs": [
    {
     "data": {
      "text/html": [
       "<div>\n",
       "<style scoped>\n",
       "    .dataframe tbody tr th:only-of-type {\n",
       "        vertical-align: middle;\n",
       "    }\n",
       "\n",
       "    .dataframe tbody tr th {\n",
       "        vertical-align: top;\n",
       "    }\n",
       "\n",
       "    .dataframe thead th {\n",
       "        text-align: right;\n",
       "    }\n",
       "</style>\n",
       "<table border=\"1\" class=\"dataframe\">\n",
       "  <thead>\n",
       "    <tr style=\"text-align: right;\">\n",
       "      <th></th>\n",
       "      <th>Ranges(Bin-edges)</th>\n",
       "      <th>Count(hist)</th>\n",
       "    </tr>\n",
       "  </thead>\n",
       "  <tbody>\n",
       "    <tr>\n",
       "      <td>0</td>\n",
       "      <td>1.0 - 2.0</td>\n",
       "      <td>86552</td>\n",
       "    </tr>\n",
       "    <tr>\n",
       "      <td>1</td>\n",
       "      <td>2.0 - 3.0</td>\n",
       "      <td>40314</td>\n",
       "    </tr>\n",
       "    <tr>\n",
       "      <td>2</td>\n",
       "      <td>3.0 - 4.0</td>\n",
       "      <td>44861</td>\n",
       "    </tr>\n",
       "    <tr>\n",
       "      <td>3</td>\n",
       "      <td>4.0 - 5.0</td>\n",
       "      <td>39362</td>\n",
       "    </tr>\n",
       "    <tr>\n",
       "      <td>4</td>\n",
       "      <td>5.0 - 6.0</td>\n",
       "      <td>37118</td>\n",
       "    </tr>\n",
       "    <tr>\n",
       "      <td>5</td>\n",
       "      <td>6.0 - 8.0</td>\n",
       "      <td>47639</td>\n",
       "    </tr>\n",
       "    <tr>\n",
       "      <td>6</td>\n",
       "      <td>8.0 - 9.0</td>\n",
       "      <td>39660</td>\n",
       "    </tr>\n",
       "    <tr>\n",
       "      <td>7</td>\n",
       "      <td>9.0 - 10.0</td>\n",
       "      <td>36833</td>\n",
       "    </tr>\n",
       "    <tr>\n",
       "      <td>8</td>\n",
       "      <td>10.0 - 11.0</td>\n",
       "      <td>45007</td>\n",
       "    </tr>\n",
       "    <tr>\n",
       "      <td>9</td>\n",
       "      <td>11.0 - 12.0</td>\n",
       "      <td>74427</td>\n",
       "    </tr>\n",
       "  </tbody>\n",
       "</table>\n",
       "</div>"
      ],
      "text/plain": [
       "  Ranges(Bin-edges)  Count(hist)\n",
       "0         1.0 - 2.0        86552\n",
       "1         2.0 - 3.0        40314\n",
       "2         3.0 - 4.0        44861\n",
       "3         4.0 - 5.0        39362\n",
       "4         5.0 - 6.0        37118\n",
       "5         6.0 - 8.0        47639\n",
       "6         8.0 - 9.0        39660\n",
       "7        9.0 - 10.0        36833\n",
       "8       10.0 - 11.0        45007\n",
       "9       11.0 - 12.0        74427"
      ]
     },
     "execution_count": 35,
     "metadata": {},
     "output_type": "execute_result"
    }
   ],
   "source": [
    "hist,bin_edges = np.histogram(df['FMONTH'])\n",
    "\n",
    "# lets round the bin edges\n",
    "bin_edges = np.round(bin_edges,0)\n",
    "bin_edges\n",
    "\n",
    "a = make_hist_df(hist, bin_edges)\n",
    "a"
   ]
  },
  {
   "cell_type": "code",
   "execution_count": 36,
   "metadata": {},
   "outputs": [
    {
     "data": {
      "text/plain": [
       "<matplotlib.axes._subplots.AxesSubplot at 0xa9741c080>"
      ]
     },
     "execution_count": 36,
     "metadata": {},
     "output_type": "execute_result"
    },
    {
     "data": {
      "image/png": "[encoded data removed]",
      "text/plain": [
       "<Figure size 432x288 with 1 Axes>"
      ]
     },
     "metadata": {
      "needs_background": "light"
     },
     "output_type": "display_data"
    }
   ],
   "source": [
    "sns.distplot(df['FMONTH'], hist=True, kde=True,\n",
    "             bins = bin_edges,\n",
    "             color = 'darkblue', \n",
    "             hist_kws={'edgecolor':'black'},\n",
    "             kde_kws={'linewidth': 4})"
   ]
  },
  {
   "cell_type": "code",
   "execution_count": 37,
   "metadata": {},
   "outputs": [
    {
     "data": {
      "image/png": "[encoded data removed]",
      "text/plain": [
       "<Figure size 432x288 with 1 Axes>"
      ]
     },
     "metadata": {
      "needs_background": "light"
     },
     "output_type": "display_data"
    }
   ],
   "source": [
    "sm.qqplot(df['FMONTH'], line='45')\n",
    "pylab.show()"
   ]
  },
  {
   "cell_type": "code",
   "execution_count": 38,
   "metadata": {},
   "outputs": [
    {
     "data": {
      "text/plain": [
       "(6.373064401664996, 3.442377368202877)"
      ]
     },
     "execution_count": 38,
     "metadata": {},
     "output_type": "execute_result"
    }
   ],
   "source": [
    "df['FMONTH'].mean(),df['FMONTH'].std()"
   ]
  },
  {
   "cell_type": "code",
   "execution_count": 39,
   "metadata": {},
   "outputs": [
    {
     "data": {
      "text/plain": [
       "88.0    304262\n",
       "30.0     38343\n",
       "2.0      26768\n",
       "1.0      20115\n",
       "3.0      15860\n",
       "5.0      14223\n",
       "10.0     10569\n",
       "15.0      9541\n",
       "7.0       9071\n",
       "77.0      8712\n",
       "4.0       8360\n",
       "20.0      6203\n",
       "14.0      5164\n",
       "25.0      2510\n",
       "6.0       2420\n",
       "99.0      2233\n",
       "8.0       1542\n",
       "21.0      1270\n",
       "12.0      1018\n",
       "28.0       969\n",
       "29.0       450\n",
       "9.0        352\n",
       "18.0       318\n",
       "16.0       258\n",
       "27.0       241\n",
       "17.0       172\n",
       "26.0       140\n",
       "13.0       139\n",
       "24.0       138\n",
       "22.0       130\n",
       "11.0       113\n",
       "23.0        99\n",
       "19.0        60\n",
       "Name: PHYSHLTH, dtype: int64"
      ]
     },
     "execution_count": 39,
     "metadata": {},
     "output_type": "execute_result"
    }
   ],
   "source": [
    "df['PHYSHLTH'].value_counts()"
   ]
  },
  {
   "cell_type": "code",
   "execution_count": 40,
   "metadata": {},
   "outputs": [
    {
     "data": {
      "text/html": [
       "<div>\n",
       "<style scoped>\n",
       "    .dataframe tbody tr th:only-of-type {\n",
       "        vertical-align: middle;\n",
       "    }\n",
       "\n",
       "    .dataframe tbody tr th {\n",
       "        vertical-align: top;\n",
       "    }\n",
       "\n",
       "    .dataframe thead th {\n",
       "        text-align: right;\n",
       "    }\n",
       "</style>\n",
       "<table border=\"1\" class=\"dataframe\">\n",
       "  <thead>\n",
       "    <tr style=\"text-align: right;\">\n",
       "      <th></th>\n",
       "      <th>Ranges(Bin-edges)</th>\n",
       "      <th>Count(hist)</th>\n",
       "    </tr>\n",
       "  </thead>\n",
       "  <tbody>\n",
       "    <tr>\n",
       "      <td>0</td>\n",
       "      <td>1.0 - 11.0</td>\n",
       "      <td>109280</td>\n",
       "    </tr>\n",
       "    <tr>\n",
       "      <td>1</td>\n",
       "      <td>11.0 - 21.0</td>\n",
       "      <td>22986</td>\n",
       "    </tr>\n",
       "    <tr>\n",
       "      <td>2</td>\n",
       "      <td>21.0 - 30.0</td>\n",
       "      <td>44290</td>\n",
       "    </tr>\n",
       "    <tr>\n",
       "      <td>3</td>\n",
       "      <td>30.0 - 40.0</td>\n",
       "      <td>0</td>\n",
       "    </tr>\n",
       "    <tr>\n",
       "      <td>4</td>\n",
       "      <td>40.0 - 50.0</td>\n",
       "      <td>0</td>\n",
       "    </tr>\n",
       "    <tr>\n",
       "      <td>5</td>\n",
       "      <td>50.0 - 60.0</td>\n",
       "      <td>0</td>\n",
       "    </tr>\n",
       "    <tr>\n",
       "      <td>6</td>\n",
       "      <td>60.0 - 70.0</td>\n",
       "      <td>0</td>\n",
       "    </tr>\n",
       "    <tr>\n",
       "      <td>7</td>\n",
       "      <td>70.0 - 79.0</td>\n",
       "      <td>8712</td>\n",
       "    </tr>\n",
       "    <tr>\n",
       "      <td>8</td>\n",
       "      <td>79.0 - 89.0</td>\n",
       "      <td>304262</td>\n",
       "    </tr>\n",
       "    <tr>\n",
       "      <td>9</td>\n",
       "      <td>89.0 - 99.0</td>\n",
       "      <td>2233</td>\n",
       "    </tr>\n",
       "  </tbody>\n",
       "</table>\n",
       "</div>"
      ],
      "text/plain": [
       "  Ranges(Bin-edges)  Count(hist)\n",
       "0        1.0 - 11.0       109280\n",
       "1       11.0 - 21.0        22986\n",
       "2       21.0 - 30.0        44290\n",
       "3       30.0 - 40.0            0\n",
       "4       40.0 - 50.0            0\n",
       "5       50.0 - 60.0            0\n",
       "6       60.0 - 70.0            0\n",
       "7       70.0 - 79.0         8712\n",
       "8       79.0 - 89.0       304262\n",
       "9       89.0 - 99.0         2233"
      ]
     },
     "execution_count": 40,
     "metadata": {},
     "output_type": "execute_result"
    }
   ],
   "source": [
    "hist,bin_edges = np.histogram(df['PHYSHLTH'].dropna())\n",
    "\n",
    "# lets round the bin edges\n",
    "bin_edges = np.round(bin_edges,0)\n",
    "\n",
    "a = make_hist_df(hist, bin_edges)\n",
    "a"
   ]
  },
  {
   "cell_type": "code",
   "execution_count": 41,
   "metadata": {},
   "outputs": [
    {
     "data": {
      "text/plain": [
       "<matplotlib.axes._subplots.AxesSubplot at 0xa975174a8>"
      ]
     },
     "execution_count": 41,
     "metadata": {},
     "output_type": "execute_result"
    },
    {
     "data": {
      "image/png": "[encoded data removed]",
      "text/plain": [
       "<Figure size 432x288 with 1 Axes>"
      ]
     },
     "metadata": {
      "needs_background": "light"
     },
     "output_type": "display_data"
    }
   ],
   "source": [
    "sns.distplot(df['PHYSHLTH'].dropna(), hist=True, kde=True,\n",
    "             bins = bin_edges,\n",
    "             color = 'darkblue', \n",
    "             hist_kws={'edgecolor':'black'},\n",
    "             kde_kws={'linewidth': 4})"
   ]
  },
  {
   "cell_type": "code",
   "execution_count": 42,
   "metadata": {},
   "outputs": [
    {
     "data": {
      "image/png": "[encoded data removed]",
      "text/plain": [
       "<Figure size 432x288 with 1 Axes>"
      ]
     },
     "metadata": {
      "needs_background": "light"
     },
     "output_type": "display_data"
    }
   ],
   "source": [
    "sm.qqplot(df['PHYSHLTH'].dropna(), line='45')\n",
    "pylab.show()"
   ]
  },
  {
   "cell_type": "code",
   "execution_count": 43,
   "metadata": {},
   "outputs": [],
   "source": [
    "# It seems to be left skewed, so we apply transformations on it to make it symmetric"
   ]
  },
  {
   "cell_type": "code",
   "execution_count": 44,
   "metadata": {},
   "outputs": [
    {
     "data": {
      "text/plain": [
       "<matplotlib.axes._subplots.AxesSubplot at 0xa975dc470>"
      ]
     },
     "execution_count": 44,
     "metadata": {},
     "output_type": "execute_result"
    },
    {
     "data": {
      "image/png": "[encoded data removed]",
      "text/plain": [
       "<Figure size 432x288 with 1 Axes>"
      ]
     },
     "metadata": {
      "needs_background": "light"
     },
     "output_type": "display_data"
    }
   ],
   "source": [
    "# apply log transformation\n",
    "\n",
    "a = np.log((df['PHYSHLTH']+1).dropna())\n",
    "\n",
    "hist,bin_edges = np.histogram(a)\n",
    "\n",
    "sns.distplot(a, hist=True, kde=True,\n",
    "             bins = bin_edges,\n",
    "             color = 'darkblue', \n",
    "             hist_kws={'edgecolor':'black'},\n",
    "             kde_kws={'linewidth': 4})"
   ]
  },
  {
   "cell_type": "code",
   "execution_count": 45,
   "metadata": {},
   "outputs": [
    {
     "data": {
      "text/plain": [
       "<matplotlib.axes._subplots.AxesSubplot at 0xa976755c0>"
      ]
     },
     "execution_count": 45,
     "metadata": {},
     "output_type": "execute_result"
    },
    {
     "data": {
      "image/png": "[encoded data removed]",
      "text/plain": [
       "<Figure size 432x288 with 1 Axes>"
      ]
     },
     "metadata": {
      "needs_background": "light"
     },
     "output_type": "display_data"
    }
   ],
   "source": [
    "# apply sqrt transformation\n",
    "\n",
    "a = np.sqrt(df['PHYSHLTH'].dropna())\n",
    "\n",
    "hist,bin_edges = np.histogram(a)\n",
    "\n",
    "sns.distplot(a, hist=True, kde=True,\n",
    "             bins = bin_edges,\n",
    "             color = 'darkblue', \n",
    "             hist_kws={'edgecolor':'black'},\n",
    "             kde_kws={'linewidth': 4})"
   ]
  },
  {
   "cell_type": "code",
   "execution_count": 46,
   "metadata": {},
   "outputs": [
    {
     "data": {
      "text/plain": [
       "<matplotlib.axes._subplots.AxesSubplot at 0xa97504b70>"
      ]
     },
     "execution_count": 46,
     "metadata": {},
     "output_type": "execute_result"
    },
    {
     "data": {
      "image/png": "[encoded data removed]",
      "text/plain": [
       "<Figure size 432x288 with 1 Axes>"
      ]
     },
     "metadata": {
      "needs_background": "light"
     },
     "output_type": "display_data"
    }
   ],
   "source": [
    "# apply cbrt transformation\n",
    "\n",
    "a = np.cbrt(df['PHYSHLTH'].dropna())\n",
    "\n",
    "hist,bin_edges = np.histogram(a)\n",
    "\n",
    "sns.distplot(a, hist=True, kde=True,\n",
    "             bins = bin_edges,\n",
    "             color = 'darkblue', \n",
    "             hist_kws={'edgecolor':'black'},\n",
    "             kde_kws={'linewidth': 4})"
   ]
  },
  {
   "cell_type": "code",
   "execution_count": 47,
   "metadata": {},
   "outputs": [
    {
     "data": {
      "text/plain": [
       "<matplotlib.axes._subplots.AxesSubplot at 0xa973eb438>"
      ]
     },
     "execution_count": 47,
     "metadata": {},
     "output_type": "execute_result"
    },
    {
     "data": {
      "image/png": "[encoded data removed]",
      "text/plain": [
       "<Figure size 432x288 with 1 Axes>"
      ]
     },
     "metadata": {
      "needs_background": "light"
     },
     "output_type": "display_data"
    }
   ],
   "source": [
    "# apply inverse transformation\n",
    "\n",
    "a = 1/df['PHYSHLTH'].dropna()\n",
    "\n",
    "hist,bin_edges = np.histogram(a)\n",
    "\n",
    "sns.distplot(a, hist=True, kde=True,\n",
    "             bins = bin_edges,\n",
    "             color = 'darkblue', \n",
    "             hist_kws={'edgecolor':'black'},\n",
    "             kde_kws={'linewidth': 4})"
   ]
  },
  {
   "cell_type": "code",
   "execution_count": 48,
   "metadata": {},
   "outputs": [
    {
     "data": {
      "text/plain": [
       "<matplotlib.axes._subplots.AxesSubplot at 0xa95c45ef0>"
      ]
     },
     "execution_count": 48,
     "metadata": {},
     "output_type": "execute_result"
    },
    {
     "data": {
      "image/png": "[encoded data removed]",
      "text/plain": [
       "<Figure size 432x288 with 1 Axes>"
      ]
     },
     "metadata": {
      "needs_background": "light"
     },
     "output_type": "display_data"
    }
   ],
   "source": [
    "# apply binned transformation\n",
    "\n",
    "a = df['PHYSHLTH'].dropna()\n",
    "\n",
    "hist,bin_edges = np.histogram(a,7)\n",
    "\n",
    "sns.distplot(a, hist=True, kde=True,\n",
    "             bins = bin_edges,\n",
    "             color = 'darkblue', \n",
    "             hist_kws={'edgecolor':'black'},\n",
    "             kde_kws={'linewidth': 4})"
   ]
  },
  {
   "cell_type": "markdown",
   "metadata": {},
   "source": [
    "[Go back](#goback)"
   ]
  },
  {
   "cell_type": "markdown",
   "metadata": {},
   "source": [
    "<a id='h4'></a>\n",
    "### 4- Box Plot"
   ]
  },
  {
   "cell_type": "code",
   "execution_count": 49,
   "metadata": {},
   "outputs": [],
   "source": [
    "# Now we'll make Box plot"
   ]
  },
  {
   "cell_type": "code",
   "execution_count": 50,
   "metadata": {},
   "outputs": [
    {
     "data": {
      "image/png": "[encoded data removed]",
      "text/plain": [
       "<Figure size 720x576 with 1 Axes>"
      ]
     },
     "metadata": {
      "needs_background": "light"
     },
     "output_type": "display_data"
    }
   ],
   "source": [
    "# matplotlib box plot\n",
    "\n",
    "import matplotlib.pyplot as plt\n",
    "\n",
    "plt.figure(figsize=[10,8])\n",
    "\n",
    "plt.boxplot(df['FMONTH'])\n",
    "plt.ylabel('Frequency',fontsize=12)\n",
    "plt.yticks(fontsize=12)\n",
    "plt.ylabel('Frequency',fontsize=12)\n",
    "plt.title('Box plot',fontsize=12)\n",
    "plt.show()"
   ]
  },
  {
   "cell_type": "code",
   "execution_count": 51,
   "metadata": {},
   "outputs": [
    {
     "data": {
      "image/png": "[encoded data removed]",
      "text/plain": [
       "<Figure size 432x288 with 1 Axes>"
      ]
     },
     "metadata": {
      "needs_background": "light"
     },
     "output_type": "display_data"
    }
   ],
   "source": [
    "# seaborn box plot\n",
    "\n",
    "import seaborn as sns\n",
    "\n",
    "a = sns.boxplot(y='FMONTH',\n",
    "             data=df, \n",
    "             width=0.5,\n",
    "             palette=\"colorblind\")\n"
   ]
  },
  {
   "cell_type": "code",
   "execution_count": null,
   "metadata": {},
   "outputs": [],
   "source": []
  },
  {
   "cell_type": "code",
   "execution_count": 52,
   "metadata": {},
   "outputs": [
    {
     "data": {
      "image/png": "[encoded data removed]",
      "text/plain": [
       "<Figure size 720x576 with 1 Axes>"
      ]
     },
     "metadata": {
      "needs_background": "light"
     },
     "output_type": "display_data"
    }
   ],
   "source": [
    "plt.figure(figsize=[10,8])\n",
    "\n",
    "plt.boxplot(df['_STATE'])\n",
    "plt.ylabel('Frequency',fontsize=12)\n",
    "plt.yticks(fontsize=12)\n",
    "plt.ylabel('Frequency',fontsize=12)\n",
    "plt.title('Box plot',fontsize=12)\n",
    "plt.show()"
   ]
  },
  {
   "cell_type": "code",
   "execution_count": 53,
   "metadata": {},
   "outputs": [
    {
     "data": {
      "image/png": "[encoded data removed]",
      "text/plain": [
       "<Figure size 432x288 with 1 Axes>"
      ]
     },
     "metadata": {
      "needs_background": "light"
     },
     "output_type": "display_data"
    }
   ],
   "source": [
    "a = sns.boxplot(y='_STATE',\n",
    "             data=df, \n",
    "             width=0.5,\n",
    "             palette=\"colorblind\")\n"
   ]
  },
  {
   "cell_type": "markdown",
   "metadata": {},
   "source": [
    "[Go back](#goback)"
   ]
  },
  {
   "cell_type": "markdown",
   "metadata": {},
   "source": [
    "<a id='h4.1'></a>\n",
    "#### 4(i). Function for box plot description (Percentile Method)"
   ]
  },
  {
   "cell_type": "code",
   "execution_count": 54,
   "metadata": {},
   "outputs": [],
   "source": [
    "# function for box plot description (Percentile Method)\n",
    "\n",
    "def box_plot_desc(col):\n",
    "    \n",
    "    # calculate interquartile range\n",
    "    q25, q75 = np.percentile(col, 25), np.percentile(col, 75)\n",
    "    iqr = q75 - q25\n",
    "    \n",
    "    # calculate the outlier cutoff/ boundary\n",
    "    cut_off = iqr * 1.5\n",
    "    lower_bound, upper_bound = q25 - cut_off, q75 + cut_off\n",
    "    \n",
    "    # identify outliers\n",
    "    outliers_by_perc = [x for x in col if x < lower_bound or x > upper_bound]\n",
    "    \n",
    "    print(\"Q1(q25): \"+str(q25))\n",
    "    print(\"Q3(q75): \"+str(q75))\n",
    "    print(\"IQR: \"+str(iqr))\n",
    "    print(\"Upper Boundary: \"+str(upper_bound))\n",
    "    print(\"Lower Boundary: \"+str(lower_bound))\n",
    "    print(\"Median: \"+str(col.median()))\n",
    "    print(\"Minimum in range: \"+str(col.min()))\n",
    "    print(\"Maximum in range: \"+str(col.max()))\n",
    "    print(\"There are \"+str(len(outliers_by_perc))+\" outliers that are given below:\")\n",
    "    print(outliers_by_perc)\n",
    "\n",
    "    \n",
    "    "
   ]
  },
  {
   "cell_type": "code",
   "execution_count": 55,
   "metadata": {},
   "outputs": [
    {
     "name": "stdout",
     "output_type": "stream",
     "text": [
      "Q1(q25): 17.0\n",
      "Q3(q75): 41.0\n",
      "IQR: 24.0\n",
      "Upper Boundary: 77.0\n",
      "Lower Boundary: -19.0\n",
      "Median: 27.0\n",
      "Minimum in range: 1.0\n",
      "Maximum in range: 72.0\n",
      "There are 0 outliers that are given below:\n",
      "[]\n"
     ]
    }
   ],
   "source": [
    "box_plot_desc(df['_STATE'])"
   ]
  },
  {
   "cell_type": "code",
   "execution_count": 56,
   "metadata": {},
   "outputs": [
    {
     "name": "stdout",
     "output_type": "stream",
     "text": [
      "Q1(q25): 3.0\n",
      "Q3(q75): 9.0\n",
      "IQR: 6.0\n",
      "Upper Boundary: 18.0\n",
      "Lower Boundary: -6.0\n",
      "Median: 6.0\n",
      "Minimum in range: 1.0\n",
      "Maximum in range: 12.0\n",
      "There are 0 outliers that are given below:\n",
      "[]\n"
     ]
    }
   ],
   "source": [
    "box_plot_desc(df['FMONTH'])"
   ]
  },
  {
   "cell_type": "code",
   "execution_count": 57,
   "metadata": {},
   "outputs": [],
   "source": [
    "arr = [5,7,10,15,19,21,21,22,22,23,23,23,23,23,24,24,24,24,25]"
   ]
  },
  {
   "cell_type": "code",
   "execution_count": 58,
   "metadata": {},
   "outputs": [
    {
     "data": {
      "image/png": "[encoded data removed]",
      "text/plain": [
       "<Figure size 720x576 with 1 Axes>"
      ]
     },
     "metadata": {
      "needs_background": "light"
     },
     "output_type": "display_data"
    }
   ],
   "source": [
    "plt.figure(figsize=[10,8])\n",
    "\n",
    "plt.boxplot(arr)\n",
    "plt.ylabel('Frequency',fontsize=12)\n",
    "plt.yticks(fontsize=12)\n",
    "plt.ylabel('Frequency',fontsize=12)\n",
    "plt.title('Box plot',fontsize=12)\n",
    "plt.show()"
   ]
  },
  {
   "cell_type": "code",
   "execution_count": 59,
   "metadata": {},
   "outputs": [
    {
     "data": {
      "image/png": "[encoded data removed]",
      "text/plain": [
       "<Figure size 432x288 with 1 Axes>"
      ]
     },
     "metadata": {
      "needs_background": "light"
     },
     "output_type": "display_data"
    }
   ],
   "source": [
    "a = sns.boxplot(y=arr,\n",
    "             data=df, \n",
    "             width=0.5,\n",
    "             palette=\"colorblind\")\n"
   ]
  },
  {
   "cell_type": "code",
   "execution_count": 60,
   "metadata": {},
   "outputs": [
    {
     "name": "stdout",
     "output_type": "stream",
     "text": [
      "Q1(q25): 20.0\n",
      "Q3(q75): 23.5\n",
      "IQR: 3.5\n",
      "Upper Boundary: 28.75\n",
      "Lower Boundary: 14.75\n",
      "Median: 23.0\n",
      "Minimum in range: 5\n",
      "Maximum in range: 25\n",
      "There are 3 outliers that are given below:\n",
      "[5, 7, 10]\n"
     ]
    }
   ],
   "source": [
    "box_plot_desc(pd.Series(arr))"
   ]
  },
  {
   "cell_type": "code",
   "execution_count": 61,
   "metadata": {},
   "outputs": [
    {
     "name": "stdout",
     "output_type": "stream",
     "text": [
      "Q1(q25): 15.0\n",
      "Q3(q75): 88.0\n",
      "IQR: 73.0\n",
      "Upper Boundary: 197.5\n",
      "Lower Boundary: -94.5\n",
      "Median: 88.0\n",
      "Minimum in range: 1.0\n",
      "Maximum in range: 99.0\n",
      "There are 0 outliers that are given below:\n",
      "[]\n"
     ]
    }
   ],
   "source": [
    "box_plot_desc(df['PHYSHLTH'].dropna())"
   ]
  },
  {
   "cell_type": "code",
   "execution_count": 62,
   "metadata": {},
   "outputs": [
    {
     "data": {
      "image/png": "[encoded data removed]",
      "text/plain": [
       "<Figure size 720x576 with 1 Axes>"
      ]
     },
     "metadata": {
      "needs_background": "light"
     },
     "output_type": "display_data"
    }
   ],
   "source": [
    "plt.figure(figsize=[10,8])\n",
    "\n",
    "plt.boxplot(df['PHYSHLTH'].dropna())\n",
    "plt.ylabel('Frequency',fontsize=12)\n",
    "plt.yticks(fontsize=12)\n",
    "plt.ylabel('Frequency',fontsize=12)\n",
    "plt.title('Box plot',fontsize=12)\n",
    "plt.show()"
   ]
  },
  {
   "cell_type": "markdown",
   "metadata": {},
   "source": [
    "Its Q3 and median are equal"
   ]
  },
  {
   "cell_type": "code",
   "execution_count": 64,
   "metadata": {},
   "outputs": [
    {
     "data": {
      "image/png": "[encoded data removed]",
      "text/plain": [
       "<Figure size 432x288 with 1 Axes>"
      ]
     },
     "metadata": {
      "needs_background": "light"
     },
     "output_type": "display_data"
    }
   ],
   "source": [
    "a = sns.boxplot(y='PHYSHLTH',\n",
    "             data=df, \n",
    "             width=0.5,\n",
    "             palette=\"colorblind\")\n"
   ]
  },
  {
   "cell_type": "markdown",
   "metadata": {},
   "source": [
    "[Go back](#goback)"
   ]
  },
  {
   "cell_type": "markdown",
   "metadata": {},
   "source": [
    "<a id='h5'></a>\n",
    "### 5- Scatter & Regression Plot"
   ]
  },
  {
   "cell_type": "markdown",
   "metadata": {},
   "source": [
    "<a id='h5.1'></a>\n",
    "#### 5(i). Method to find Best correlation vars"
   ]
  },
  {
   "cell_type": "code",
   "execution_count": 66,
   "metadata": {},
   "outputs": [],
   "source": [
    "def find_best_corr(df, positive_corr_limit, neg_corr_limit):\n",
    "    \n",
    "    correlation = df.corr()\n",
    "    \n",
    "    cols = []\n",
    "    rows = []\n",
    "\n",
    "    for i in correlation:\n",
    "        n = 0\n",
    "\n",
    "        for j in correlation[i]:\n",
    "\n",
    "            if (j >= positive_corr_limit and j < 1) or (j <= neg_corr_limit and j > -1):\n",
    "\n",
    "\n",
    "\n",
    "                cols.append(i)\n",
    "                rows.append(correlation[correlation[i] == j].index[0])\n",
    "                #rows.append(n)\n",
    "\n",
    "            n+=1\n",
    "            \n",
    "    return rows, cols\n",
    "\n",
    "    \n",
    "    "
   ]
  },
  {
   "cell_type": "code",
   "execution_count": 67,
   "metadata": {},
   "outputs": [
    {
     "name": "stdout",
     "output_type": "stream",
     "text": [
      "['_STSTR', 'NUMMEN', 'NUMWOMEN', 'MISNOWRK', 'SCNTWRK1', '_CLLCPWT', '_RAWRAKE', 'LADULT', 'LADULT', '_ASTHMS1', '_EDUCAG', '_IMPEDUC', 'CADULT', '_SMOKER3', '_DRNKDY4', '_DRNKMO4', '_RFDRHV4', '_RFDRMN4', '_TOTINDA', 'PADUR1_', 'PADUR2_', '_LMTACT1', '_LMTWRK1', '_LMTSCL1', '_AIDTST3', 'HADMAM', 'ARTHEDU', 'LADULT', 'LADULT', 'SEX', '_STATE', 'NUMADULT', 'LADULT', '_AGE65YR', 'ASTHNOW', '_MRACE1', '_PRACE1', '_RACEGR3', '_RACE', '_AGE_G', '_AGE80', '_HCVU651', '_AGEG5YR', '_AGE80', 'HTM4', 'HTIN4', 'EDUCA', 'SMOKDAY2', 'AVEDRNK2', '_DRNKMO4', '_RFDRHV4', '_RFDRMN4', '_RFDRWM4', 'AVEDRNK2', '_DRNKDY4', '_RFDRHV4', '_RFDRMN4', '_RFDRWM4', 'AVEDRNK2', '_DRNKDY4', '_DRNKMO4', 'AVEDRNK2', '_DRNKDY4', '_DRNKMO4', '_DRNKDY4', '_DRNKMO4', '_FRTRESP', '_FRUITEX', '_MISFRTN', '_FRTLT1', '_FRUITEX', '_VEGLT1', '_VEGETEX', '_FRTRESP', '_FRUITEX', '_VEGRESP', '_VEGETEX', '_MISFRTN', '_FRTRESP', '_FRTLT1', '_VEGRESP', '_VEGLT1', 'EXERANY2', 'PAMISS1_', 'FC60_', 'MAXVO2_', 'EXERHMM1', 'EXERHMM2', '_TOTINDA', '_PA300R2', '_PA150R2', '_PAINDX1', '_PACAT1', '_PA30021', '_PA300R2', 'LMTJOIN3', 'ARTHDIS2', 'ARTHSOCL', '_RFSEAT3', '_RFSEAT2', 'HIVTST6', '_AGEG5YR', '_AGE_G', 'EDUCA']\n",
      "['_STATE', 'LADULT', 'LADULT', 'LADULT', 'LADULT', 'LADULT', 'NUMADULT', 'NUMMEN', 'NUMWOMEN', 'ASTHNOW', 'EDUCA', 'EDUCA', 'SEX', 'SMOKDAY2', 'AVEDRNK2', 'AVEDRNK2', 'AVEDRNK2', 'AVEDRNK2', 'EXERANY2', 'EXERHMM1', 'EXERHMM2', 'LMTJOIN3', 'ARTHDIS2', 'ARTHSOCL', 'HIVTST6', 'ARTHEDU', 'HADMAM', 'MISNOWRK', 'SCNTWRK1', 'CADULT', '_STSTR', '_RAWRAKE', '_CLLCPWT', '_HCVU651', '_ASTHMS1', '_PRACE1', '_MRACE1', '_RACE', '_RACEGR3', '_AGEG5YR', '_AGEG5YR', '_AGE65YR', '_AGE_G', '_AGE_G', 'HTIN4', 'HTM4', '_EDUCAG', '_SMOKER3', '_DRNKDY4', '_DRNKDY4', '_DRNKDY4', '_DRNKDY4', '_DRNKDY4', '_DRNKMO4', '_DRNKMO4', '_DRNKMO4', '_DRNKMO4', '_DRNKMO4', '_RFDRHV4', '_RFDRHV4', '_RFDRHV4', '_RFDRMN4', '_RFDRMN4', '_RFDRMN4', '_RFDRWM4', '_RFDRWM4', '_MISFRTN', '_MISFRTN', '_FRTRESP', '_FRTRESP', '_FRTRESP', '_VEGRESP', '_VEGRESP', '_FRTLT1', '_FRTLT1', '_VEGLT1', '_VEGLT1', '_FRUITEX', '_FRUITEX', '_FRUITEX', '_VEGETEX', '_VEGETEX', '_TOTINDA', '_TOTINDA', 'MAXVO2_', 'FC60_', 'PADUR1_', 'PADUR2_', 'PAMISS1_', '_PACAT1', '_PAINDX1', '_PA150R2', '_PA300R2', '_PA300R2', '_PA30021', '_LMTACT1', '_LMTWRK1', '_LMTSCL1', '_RFSEAT2', '_RFSEAT3', '_AIDTST3', '_AGE80', '_AGE80', '_IMPEDUC']\n"
     ]
    }
   ],
   "source": [
    "rows, cols = find_best_corr(df, 0.95, -0.95) # yahan variable assign karna h, rows or col k liye\n",
    "print(rows)\n",
    "print(cols)"
   ]
  },
  {
   "cell_type": "code",
   "execution_count": 73,
   "metadata": {},
   "outputs": [],
   "source": [
    "# Now we'll make dataframe of correlated vars with their correlation strength."
   ]
  },
  {
   "cell_type": "code",
   "execution_count": 94,
   "metadata": {},
   "outputs": [],
   "source": [
    "def corr_vars_df(df, rows, cols):\n",
    "    \n",
    "    corrs = []\n",
    "\n",
    "    for i in range(len(rows)):\n",
    "\n",
    "        a = df[cols[i]].corr(df[rows[i]])\n",
    "        corrs.append(round(a,2))\n",
    "    \n",
    "    correlated_vars = pd.DataFrame({'A': cols,\n",
    "                                    'B': rows,\n",
    "                                    'Correlation Strength': corrs})\n",
    "\n",
    "    return correlated_vars"
   ]
  },
  {
   "cell_type": "code",
   "execution_count": 95,
   "metadata": {},
   "outputs": [
    {
     "data": {
      "text/html": [
       "<div>\n",
       "<style scoped>\n",
       "    .dataframe tbody tr th:only-of-type {\n",
       "        vertical-align: middle;\n",
       "    }\n",
       "\n",
       "    .dataframe tbody tr th {\n",
       "        vertical-align: top;\n",
       "    }\n",
       "\n",
       "    .dataframe thead th {\n",
       "        text-align: right;\n",
       "    }\n",
       "</style>\n",
       "<table border=\"1\" class=\"dataframe\">\n",
       "  <thead>\n",
       "    <tr style=\"text-align: right;\">\n",
       "      <th></th>\n",
       "      <th>A</th>\n",
       "      <th>B</th>\n",
       "      <th>Correlation Strength</th>\n",
       "    </tr>\n",
       "  </thead>\n",
       "  <tbody>\n",
       "    <tr>\n",
       "      <td>0</td>\n",
       "      <td>_STATE</td>\n",
       "      <td>_STSTR</td>\n",
       "      <td>1.00</td>\n",
       "    </tr>\n",
       "    <tr>\n",
       "      <td>1</td>\n",
       "      <td>LADULT</td>\n",
       "      <td>NUMMEN</td>\n",
       "      <td>-1.00</td>\n",
       "    </tr>\n",
       "    <tr>\n",
       "      <td>2</td>\n",
       "      <td>LADULT</td>\n",
       "      <td>NUMWOMEN</td>\n",
       "      <td>1.00</td>\n",
       "    </tr>\n",
       "    <tr>\n",
       "      <td>3</td>\n",
       "      <td>LADULT</td>\n",
       "      <td>MISNOWRK</td>\n",
       "      <td>0.97</td>\n",
       "    </tr>\n",
       "    <tr>\n",
       "      <td>4</td>\n",
       "      <td>LADULT</td>\n",
       "      <td>SCNTWRK1</td>\n",
       "      <td>0.96</td>\n",
       "    </tr>\n",
       "    <tr>\n",
       "      <td>...</td>\n",
       "      <td>...</td>\n",
       "      <td>...</td>\n",
       "      <td>...</td>\n",
       "    </tr>\n",
       "    <tr>\n",
       "      <td>99</td>\n",
       "      <td>_RFSEAT3</td>\n",
       "      <td>_RFSEAT2</td>\n",
       "      <td>0.99</td>\n",
       "    </tr>\n",
       "    <tr>\n",
       "      <td>100</td>\n",
       "      <td>_AIDTST3</td>\n",
       "      <td>HIVTST6</td>\n",
       "      <td>0.99</td>\n",
       "    </tr>\n",
       "    <tr>\n",
       "      <td>101</td>\n",
       "      <td>_AGE80</td>\n",
       "      <td>_AGEG5YR</td>\n",
       "      <td>0.98</td>\n",
       "    </tr>\n",
       "    <tr>\n",
       "      <td>102</td>\n",
       "      <td>_AGE80</td>\n",
       "      <td>_AGE_G</td>\n",
       "      <td>0.97</td>\n",
       "    </tr>\n",
       "    <tr>\n",
       "      <td>103</td>\n",
       "      <td>_IMPEDUC</td>\n",
       "      <td>EDUCA</td>\n",
       "      <td>0.97</td>\n",
       "    </tr>\n",
       "  </tbody>\n",
       "</table>\n",
       "<p>104 rows × 3 columns</p>\n",
       "</div>"
      ],
      "text/plain": [
       "            A         B  Correlation Strength\n",
       "0      _STATE    _STSTR                  1.00\n",
       "1      LADULT    NUMMEN                 -1.00\n",
       "2      LADULT  NUMWOMEN                  1.00\n",
       "3      LADULT  MISNOWRK                  0.97\n",
       "4      LADULT  SCNTWRK1                  0.96\n",
       "..        ...       ...                   ...\n",
       "99   _RFSEAT3  _RFSEAT2                  0.99\n",
       "100  _AIDTST3   HIVTST6                  0.99\n",
       "101    _AGE80  _AGEG5YR                  0.98\n",
       "102    _AGE80    _AGE_G                  0.97\n",
       "103  _IMPEDUC     EDUCA                  0.97\n",
       "\n",
       "[104 rows x 3 columns]"
      ]
     },
     "execution_count": 95,
     "metadata": {},
     "output_type": "execute_result"
    }
   ],
   "source": [
    "corr_vars_info = corr_vars_df(df, rows, cols)\n",
    "corr_vars_info"
   ]
  },
  {
   "cell_type": "code",
   "execution_count": 96,
   "metadata": {},
   "outputs": [],
   "source": [
    "# Make scatter plot & reg plot of some high strength corelated vars."
   ]
  },
  {
   "cell_type": "code",
   "execution_count": 68,
   "metadata": {
    "scrolled": true
   },
   "outputs": [
    {
     "data": {
      "image/png": "[encoded data removed]",
      "text/plain": [
       "<Figure size 432x288 with 1 Axes>"
      ]
     },
     "metadata": {},
     "output_type": "display_data"
    }
   ],
   "source": [
    "import seaborn as sns; sns.set()\n",
    "import matplotlib.pyplot as plt\n",
    "ax = sns.scatterplot(x=\"_STATE\", y=\"_STSTR\", data=df)"
   ]
  },
  {
   "cell_type": "code",
   "execution_count": 69,
   "metadata": {},
   "outputs": [
    {
     "data": {
      "image/png": "[encoded data removed]",
      "text/plain": [
       "<Figure size 432x288 with 1 Axes>"
      ]
     },
     "metadata": {},
     "output_type": "display_data"
    }
   ],
   "source": [
    "# reg plot\n",
    "import seaborn as sns; sns.set(color_codes=True)\n",
    "\n",
    "ax = sns.regplot(x=\"_STATE\", y=\"_STSTR\", data=df)"
   ]
  },
  {
   "cell_type": "code",
   "execution_count": 97,
   "metadata": {},
   "outputs": [
    {
     "data": {
      "text/plain": [
       "14"
      ]
     },
     "execution_count": 97,
     "metadata": {},
     "output_type": "execute_result"
    }
   ],
   "source": [
    "len(df['NUMMEN'].value_counts())"
   ]
  },
  {
   "cell_type": "code",
   "execution_count": 98,
   "metadata": {},
   "outputs": [
    {
     "data": {
      "text/plain": [
       "0.9699717540882922"
      ]
     },
     "execution_count": 98,
     "metadata": {},
     "output_type": "execute_result"
    }
   ],
   "source": [
    "df['MISNOWRK'].corr(df['LADULT'])"
   ]
  },
  {
   "cell_type": "code",
   "execution_count": 99,
   "metadata": {},
   "outputs": [
    {
     "data": {
      "image/png": "[encoded data removed]",
      "text/plain": [
       "<Figure size 432x288 with 1 Axes>"
      ]
     },
     "metadata": {},
     "output_type": "display_data"
    }
   ],
   "source": [
    "import seaborn as sns; sns.set()\n",
    "import matplotlib.pyplot as plt\n",
    "ax = sns.scatterplot(x=\"MISNOWRK\", y=\"LADULT\", data=df)"
   ]
  },
  {
   "cell_type": "code",
   "execution_count": 100,
   "metadata": {},
   "outputs": [
    {
     "data": {
      "image/png": "[encoded data removed]",
      "text/plain": [
       "<Figure size 432x288 with 1 Axes>"
      ]
     },
     "metadata": {},
     "output_type": "display_data"
    }
   ],
   "source": [
    "ax = sns.regplot(x=\"MISNOWRK\", y=\"LADULT\", data=df, color = 'g')"
   ]
  },
  {
   "cell_type": "code",
   "execution_count": 105,
   "metadata": {},
   "outputs": [],
   "source": [
    "# now create plot for neg correlated vars"
   ]
  },
  {
   "cell_type": "code",
   "execution_count": 101,
   "metadata": {},
   "outputs": [
    {
     "data": {
      "text/html": [
       "<div>\n",
       "<style scoped>\n",
       "    .dataframe tbody tr th:only-of-type {\n",
       "        vertical-align: middle;\n",
       "    }\n",
       "\n",
       "    .dataframe tbody tr th {\n",
       "        vertical-align: top;\n",
       "    }\n",
       "\n",
       "    .dataframe thead th {\n",
       "        text-align: right;\n",
       "    }\n",
       "</style>\n",
       "<table border=\"1\" class=\"dataframe\">\n",
       "  <thead>\n",
       "    <tr style=\"text-align: right;\">\n",
       "      <th></th>\n",
       "      <th>A</th>\n",
       "      <th>B</th>\n",
       "      <th>Correlation Strength</th>\n",
       "    </tr>\n",
       "  </thead>\n",
       "  <tbody>\n",
       "    <tr>\n",
       "      <td>1</td>\n",
       "      <td>LADULT</td>\n",
       "      <td>NUMMEN</td>\n",
       "      <td>-1.00</td>\n",
       "    </tr>\n",
       "    <tr>\n",
       "      <td>7</td>\n",
       "      <td>NUMMEN</td>\n",
       "      <td>LADULT</td>\n",
       "      <td>-1.00</td>\n",
       "    </tr>\n",
       "    <tr>\n",
       "      <td>66</td>\n",
       "      <td>_MISFRTN</td>\n",
       "      <td>_FRTRESP</td>\n",
       "      <td>-0.96</td>\n",
       "    </tr>\n",
       "    <tr>\n",
       "      <td>68</td>\n",
       "      <td>_FRTRESP</td>\n",
       "      <td>_MISFRTN</td>\n",
       "      <td>-0.96</td>\n",
       "    </tr>\n",
       "    <tr>\n",
       "      <td>69</td>\n",
       "      <td>_FRTRESP</td>\n",
       "      <td>_FRTLT1</td>\n",
       "      <td>-0.98</td>\n",
       "    </tr>\n",
       "    <tr>\n",
       "      <td>70</td>\n",
       "      <td>_FRTRESP</td>\n",
       "      <td>_FRUITEX</td>\n",
       "      <td>-0.99</td>\n",
       "    </tr>\n",
       "    <tr>\n",
       "      <td>71</td>\n",
       "      <td>_VEGRESP</td>\n",
       "      <td>_VEGLT1</td>\n",
       "      <td>-0.99</td>\n",
       "    </tr>\n",
       "    <tr>\n",
       "      <td>72</td>\n",
       "      <td>_VEGRESP</td>\n",
       "      <td>_VEGETEX</td>\n",
       "      <td>-1.00</td>\n",
       "    </tr>\n",
       "    <tr>\n",
       "      <td>73</td>\n",
       "      <td>_FRTLT1</td>\n",
       "      <td>_FRTRESP</td>\n",
       "      <td>-0.98</td>\n",
       "    </tr>\n",
       "    <tr>\n",
       "      <td>75</td>\n",
       "      <td>_VEGLT1</td>\n",
       "      <td>_VEGRESP</td>\n",
       "      <td>-0.99</td>\n",
       "    </tr>\n",
       "    <tr>\n",
       "      <td>78</td>\n",
       "      <td>_FRUITEX</td>\n",
       "      <td>_FRTRESP</td>\n",
       "      <td>-0.99</td>\n",
       "    </tr>\n",
       "    <tr>\n",
       "      <td>80</td>\n",
       "      <td>_VEGETEX</td>\n",
       "      <td>_VEGRESP</td>\n",
       "      <td>-1.00</td>\n",
       "    </tr>\n",
       "  </tbody>\n",
       "</table>\n",
       "</div>"
      ],
      "text/plain": [
       "           A         B  Correlation Strength\n",
       "1     LADULT    NUMMEN                 -1.00\n",
       "7     NUMMEN    LADULT                 -1.00\n",
       "66  _MISFRTN  _FRTRESP                 -0.96\n",
       "68  _FRTRESP  _MISFRTN                 -0.96\n",
       "69  _FRTRESP   _FRTLT1                 -0.98\n",
       "70  _FRTRESP  _FRUITEX                 -0.99\n",
       "71  _VEGRESP   _VEGLT1                 -0.99\n",
       "72  _VEGRESP  _VEGETEX                 -1.00\n",
       "73   _FRTLT1  _FRTRESP                 -0.98\n",
       "75   _VEGLT1  _VEGRESP                 -0.99\n",
       "78  _FRUITEX  _FRTRESP                 -0.99\n",
       "80  _VEGETEX  _VEGRESP                 -1.00"
      ]
     },
     "execution_count": 101,
     "metadata": {},
     "output_type": "execute_result"
    }
   ],
   "source": [
    "correlated_vars[correlated_vars['Correlation Strength'] < 0]"
   ]
  },
  {
   "cell_type": "code",
   "execution_count": 102,
   "metadata": {},
   "outputs": [
    {
     "data": {
      "text/plain": [
       "3"
      ]
     },
     "execution_count": 102,
     "metadata": {},
     "output_type": "execute_result"
    }
   ],
   "source": [
    "len(df['_FRTLT1'].value_counts())"
   ]
  },
  {
   "cell_type": "code",
   "execution_count": 103,
   "metadata": {},
   "outputs": [
    {
     "data": {
      "image/png": "[encoded data removed]",
      "text/plain": [
       "<Figure size 432x288 with 1 Axes>"
      ]
     },
     "metadata": {},
     "output_type": "display_data"
    }
   ],
   "source": [
    "import seaborn as sns; sns.set()\n",
    "import matplotlib.pyplot as plt\n",
    "ax = sns.scatterplot(x=\"_FRTRESP\", y=\"_MISFRTN\", data=df)"
   ]
  },
  {
   "cell_type": "code",
   "execution_count": 104,
   "metadata": {},
   "outputs": [
    {
     "data": {
      "image/png": "[encoded data removed]",
      "text/plain": [
       "<Figure size 432x288 with 1 Axes>"
      ]
     },
     "metadata": {},
     "output_type": "display_data"
    }
   ],
   "source": [
    "ax = sns.regplot(x=\"_MISFRTN\", y=\"_FRTRESP\", data=df, color = 'g')"
   ]
  },
  {
   "cell_type": "markdown",
   "metadata": {},
   "source": [
    "[Go back](#goback)"
   ]
  },
  {
   "cell_type": "markdown",
   "metadata": {},
   "source": [
    "<a id='h6'></a>\n",
    "### 6. Bar chart "
   ]
  },
  {
   "cell_type": "code",
   "execution_count": 107,
   "metadata": {},
   "outputs": [
    {
     "data": {
      "text/plain": [
       "7.0     47639\n",
       "1.0     46003\n",
       "10.0    45007\n",
       "4.0     44861\n",
       "2.0     40549\n",
       "3.0     40314\n",
       "8.0     39660\n",
       "5.0     39362\n",
       "11.0    38348\n",
       "6.0     37118\n",
       "9.0     36833\n",
       "12.0    36079\n",
       "Name: FMONTH, dtype: int64"
      ]
     },
     "execution_count": 107,
     "metadata": {},
     "output_type": "execute_result"
    }
   ],
   "source": [
    "df['FMONTH'].value_counts()"
   ]
  },
  {
   "cell_type": "code",
   "execution_count": 110,
   "metadata": {},
   "outputs": [
    {
     "data": {
      "text/plain": [
       "['Jan',\n",
       " 'Jan',\n",
       " 'Jan',\n",
       " 'Jan',\n",
       " 'Feb',\n",
       " 'Mar',\n",
       " 'Mar',\n",
       " 'Mar',\n",
       " 'Apr',\n",
       " 'Apr',\n",
       " 'Apr',\n",
       " 'Apr',\n",
       " 'Apr',\n",
       " 'May',\n",
       " 'Jun',\n",
       " 'Jun',\n",
       " 'Jun',\n",
       " 'May',\n",
       " 'Jun',\n",
       " 'Jun',\n",
       " 'Jun',\n",
       " 'Jun',\n",
       " 'Jun',\n",
       " 'Jul',\n",
       " 'Jul',\n",
       " 'Jul',\n",
       " 'Jul',\n",
       " 'Jul',\n",
       " 'Jul',\n",
       " 'Jul',\n",
       " 'Sep',\n",
       " 'Sep',\n",
       " 'Sep',\n",
       " 'Nov',\n",
       " 'Nov',\n",
       " 'Oct',\n",
       " 'Oct',\n",
       " 'Oct',\n",
       " 'Nov',\n",
       " 'Nov',\n",
       " 'Nov',\n",
       " 'Dec',\n",
       " 'Dec',\n",
       " 'Dec',\n",
       " 'Jan',\n",
       " 'Jan',\n",
       " 'May',\n",
       " 'May',\n",
       " 'Jun',\n",
       " 'Jun',\n",
       " 'Jul',\n",
       " 'Jul',\n",
       " 'Aug',\n",
       " 'Aug',\n",
       " 'Aug',\n",
       " 'Aug',\n",
       " 'Aug',\n",
       " 'Sep',\n",
       " 'Oct',\n",
       " 'Nov',\n",
       " 'Nov',\n",
       " 'Nov',\n",
       " 'Nov',\n",
       " 'Dec',\n",
       " 'Dec',\n",
       " 'Feb',\n",
       " 'Apr',\n",
       " 'Oct',\n",
       " 'Apr',\n",
       " 'Oct',\n",
       " 'Oct',\n",
       " 'Jan',\n",
       " 'Jan',\n",
       " 'Jan',\n",
       " 'Jan',\n",
       " 'Jan',\n",
       " 'Jan',\n",
       " 'Jan',\n",
       " 'Jan',\n",
       " 'Jan',\n",
       " 'Jan',\n",
       " 'Jan',\n",
       " 'Jan',\n",
       " 'Jan',\n",
       " 'Jan',\n",
       " 'Jan',\n",
       " 'Jan',\n",
       " 'Jan',\n",
       " 'Jan',\n",
       " 'Jan',\n",
       " 'Jan',\n",
       " 'Jan',\n",
       " 'Jan',\n",
       " 'Feb',\n",
       " 'Feb',\n",
       " 'Feb',\n",
       " 'Feb',\n",
       " 'Feb',\n",
       " 'Feb',\n",
       " 'Mar',\n",
       " 'Mar',\n",
       " 'Mar',\n",
       " 'Mar',\n",
       " 'Mar',\n",
       " 'Mar',\n",
       " 'Mar',\n",
       " 'Mar',\n",
       " 'Mar',\n",
       " 'Mar',\n",
       " 'Mar',\n",
       " 'Mar',\n",
       " 'Mar',\n",
       " 'Mar',\n",
       " 'Mar',\n",
       " 'Jan',\n",
       " 'Mar',\n",
       " 'Mar',\n",
       " 'Apr',\n",
       " 'Apr',\n",
       " 'Apr',\n",
       " 'Apr',\n",
       " 'Apr',\n",
       " 'Apr',\n",
       " 'Apr',\n",
       " 'Apr',\n",
       " 'Apr',\n",
       " 'Apr',\n",
       " 'Apr',\n",
       " 'Apr',\n",
       " 'Apr',\n",
       " 'Apr',\n",
       " 'Apr',\n",
       " 'Apr',\n",
       " 'Apr',\n",
       " 'Apr',\n",
       " 'May',\n",
       " 'May',\n",
       " 'May',\n",
       " 'May',\n",
       " 'May',\n",
       " 'May',\n",
       " 'May',\n",
       " 'May',\n",
       " 'May',\n",
       " 'May',\n",
       " 'May',\n",
       " 'May',\n",
       " 'May',\n",
       " 'May',\n",
       " 'May',\n",
       " 'May',\n",
       " 'May',\n",
       " 'Jun',\n",
       " 'Jun',\n",
       " 'Jun',\n",
       " 'Jun',\n",
       " 'Jun',\n",
       " 'Jun',\n",
       " 'Jun',\n",
       " 'Jun',\n",
       " 'Jun',\n",
       " 'Jun',\n",
       " 'Jun',\n",
       " 'Jun',\n",
       " 'Jun',\n",
       " 'Jun',\n",
       " 'Jun',\n",
       " 'Jun',\n",
       " 'Jun',\n",
       " 'Jun',\n",
       " 'Jun',\n",
       " 'Jun',\n",
       " 'Jun',\n",
       " 'Apr',\n",
       " 'Jun',\n",
       " 'Jun',\n",
       " 'Apr',\n",
       " 'Apr',\n",
       " 'Apr',\n",
       " 'May',\n",
       " 'May',\n",
       " 'May',\n",
       " 'Jun',\n",
       " 'Jul',\n",
       " 'Jul',\n",
       " 'Jul',\n",
       " 'Jul',\n",
       " 'Jul',\n",
       " 'Jul',\n",
       " 'Jul',\n",
       " 'Jul',\n",
       " 'Jul',\n",
       " 'Jul',\n",
       " 'Jul',\n",
       " 'Jul',\n",
       " 'Jul',\n",
       " 'Jul',\n",
       " 'Jul',\n",
       " 'Jul',\n",
       " 'Jul',\n",
       " 'Aug',\n",
       " 'Aug',\n",
       " 'Aug',\n",
       " 'Aug',\n",
       " 'Aug',\n",
       " 'Aug',\n",
       " 'Aug',\n",
       " 'Aug',\n",
       " 'Sep',\n",
       " 'Sep',\n",
       " 'Sep',\n",
       " 'Sep',\n",
       " 'Sep',\n",
       " 'Sep',\n",
       " 'Sep',\n",
       " 'Sep',\n",
       " 'Sep',\n",
       " 'Sep',\n",
       " 'Sep',\n",
       " 'Sep',\n",
       " 'Sep',\n",
       " 'Sep',\n",
       " 'Sep',\n",
       " 'Sep',\n",
       " 'Sep',\n",
       " 'Jul',\n",
       " 'Jul',\n",
       " 'Aug',\n",
       " 'Sep',\n",
       " 'Sep',\n",
       " 'Jul',\n",
       " 'Oct',\n",
       " 'Oct',\n",
       " 'Oct',\n",
       " 'Oct',\n",
       " 'Oct',\n",
       " 'Oct',\n",
       " 'Oct',\n",
       " 'Oct',\n",
       " 'Oct',\n",
       " 'Oct',\n",
       " 'Oct',\n",
       " 'Oct',\n",
       " 'Oct',\n",
       " 'Oct',\n",
       " 'Oct',\n",
       " 'Oct',\n",
       " 'Oct',\n",
       " 'Oct',\n",
       " 'Nov',\n",
       " 'Nov',\n",
       " 'Nov',\n",
       " 'Nov',\n",
       " 'Nov',\n",
       " 'Nov',\n",
       " 'Nov',\n",
       " 'Nov',\n",
       " 'Nov',\n",
       " 'Nov',\n",
       " 'Nov',\n",
       " 'Nov',\n",
       " 'Nov',\n",
       " 'Nov',\n",
       " 'Nov',\n",
       " 'Dec',\n",
       " 'Dec',\n",
       " 'Dec',\n",
       " 'Dec',\n",
       " 'Dec',\n",
       " 'Dec',\n",
       " 'Dec',\n",
       " 'Dec',\n",
       " 'Dec',\n",
       " 'Dec',\n",
       " 'Dec',\n",
       " 'Dec',\n",
       " 'Dec',\n",
       " 'Dec',\n",
       " 'Jan',\n",
       " 'Jan',\n",
       " 'Jan',\n",
       " 'Feb',\n",
       " 'Feb',\n",
       " 'Feb',\n",
       " 'Feb',\n",
       " 'Feb',\n",
       " 'Mar',\n",
       " 'Mar',\n",
       " 'Mar',\n",
       " 'Apr',\n",
       " 'May',\n",
       " 'May',\n",
       " 'May',\n",
       " 'May',\n",
       " 'May',\n",
       " 'May',\n",
       " 'Jun',\n",
       " 'Jun',\n",
       " 'Jun',\n",
       " 'Jun',\n",
       " 'Jun',\n",
       " 'Jul',\n",
       " 'Jul',\n",
       " 'Jul',\n",
       " 'Jul',\n",
       " 'Jul',\n",
       " 'Jul',\n",
       " 'Jul',\n",
       " 'Aug',\n",
       " 'Aug',\n",
       " 'Aug',\n",
       " 'Sep',\n",
       " 'Sep',\n",
       " 'Sep',\n",
       " 'Oct',\n",
       " 'Oct',\n",
       " 'Oct',\n",
       " 'Oct',\n",
       " 'Oct',\n",
       " 'Oct',\n",
       " 'Oct',\n",
       " 'Oct',\n",
       " 'Oct',\n",
       " 'Nov',\n",
       " 'Nov',\n",
       " 'Nov',\n",
       " 'Nov',\n",
       " 'Nov',\n",
       " 'Nov',\n",
       " 'Nov',\n",
       " 'Nov',\n",
       " 'Nov',\n",
       " 'Nov',\n",
       " 'Nov',\n",
       " 'Nov',\n",
       " 'Dec',\n",
       " 'Dec',\n",
       " 'Dec',\n",
       " 'Dec',\n",
       " 'Dec',\n",
       " 'Dec',\n",
       " 'Dec',\n",
       " 'Dec',\n",
       " 'Jan',\n",
       " 'Aug',\n",
       " 'Feb',\n",
       " 'Jul',\n",
       " 'Sep',\n",
       " 'Oct',\n",
       " 'Nov',\n",
       " 'Nov',\n",
       " 'Dec',\n",
       " 'Jul',\n",
       " 'Jul',\n",
       " 'Jul',\n",
       " 'Sep',\n",
       " 'Jun',\n",
       " 'Sep',\n",
       " 'Jan',\n",
       " 'Jan',\n",
       " 'Jan',\n",
       " 'Jan',\n",
       " 'Jan',\n",
       " 'Feb',\n",
       " 'Mar',\n",
       " 'Mar',\n",
       " 'Mar',\n",
       " 'Apr',\n",
       " 'May',\n",
       " 'May',\n",
       " 'Jun',\n",
       " 'Jun',\n",
       " 'Jun',\n",
       " 'Apr',\n",
       " 'Apr',\n",
       " 'May',\n",
       " 'May',\n",
       " 'Jun',\n",
       " 'Jul',\n",
       " 'Sep',\n",
       " 'Jul',\n",
       " 'Jul',\n",
       " 'Jul',\n",
       " 'Jul',\n",
       " 'Jul',\n",
       " 'Jul',\n",
       " 'Jul',\n",
       " 'Sep',\n",
       " 'Jul',\n",
       " 'Oct',\n",
       " 'Oct',\n",
       " 'Oct',\n",
       " 'Oct',\n",
       " 'Oct',\n",
       " 'Nov',\n",
       " 'Dec',\n",
       " 'Dec',\n",
       " 'Dec',\n",
       " 'Dec',\n",
       " 'May',\n",
       " 'Sep',\n",
       " 'Dec',\n",
       " 'Jan',\n",
       " 'Jan',\n",
       " 'Jan',\n",
       " 'Jan',\n",
       " 'Jan',\n",
       " 'Feb',\n",
       " 'Mar',\n",
       " 'Mar',\n",
       " 'Mar',\n",
       " 'Mar',\n",
       " 'Mar',\n",
       " 'Mar',\n",
       " 'Jun',\n",
       " 'Apr',\n",
       " 'Apr',\n",
       " 'Apr',\n",
       " 'Apr',\n",
       " 'May',\n",
       " 'May',\n",
       " 'Apr',\n",
       " 'May',\n",
       " 'May',\n",
       " 'May',\n",
       " 'Jun',\n",
       " 'Jul',\n",
       " 'Jul',\n",
       " 'Jul',\n",
       " 'Aug',\n",
       " 'Aug',\n",
       " 'Aug',\n",
       " 'Sep',\n",
       " 'Sep',\n",
       " 'Sep',\n",
       " 'Sep',\n",
       " 'Sep',\n",
       " 'Jul',\n",
       " 'Oct',\n",
       " 'Oct',\n",
       " 'Oct',\n",
       " 'Oct',\n",
       " 'Oct',\n",
       " 'Oct',\n",
       " 'Dec',\n",
       " 'Dec',\n",
       " 'Dec',\n",
       " 'Oct',\n",
       " 'Mar',\n",
       " 'Apr',\n",
       " 'May',\n",
       " 'Jun',\n",
       " 'Jun',\n",
       " 'Oct',\n",
       " 'Nov',\n",
       " 'Dec',\n",
       " 'Dec',\n",
       " 'Apr',\n",
       " 'Mar',\n",
       " 'Mar',\n",
       " 'Mar',\n",
       " 'Feb',\n",
       " 'Apr',\n",
       " 'Apr',\n",
       " 'May',\n",
       " 'May',\n",
       " 'Apr',\n",
       " 'Apr',\n",
       " 'Apr',\n",
       " 'Apr',\n",
       " 'May',\n",
       " 'May',\n",
       " 'May',\n",
       " 'Jun',\n",
       " 'Jun',\n",
       " 'May',\n",
       " 'May',\n",
       " 'Jun',\n",
       " 'Jun',\n",
       " 'Jul',\n",
       " 'Aug',\n",
       " 'Sep',\n",
       " 'Sep',\n",
       " 'Sep',\n",
       " 'Sep',\n",
       " 'Jul',\n",
       " 'Jul',\n",
       " 'Jul',\n",
       " 'Aug',\n",
       " 'Aug',\n",
       " 'Aug',\n",
       " 'Aug',\n",
       " 'Aug',\n",
       " 'Sep',\n",
       " 'Sep',\n",
       " 'Sep',\n",
       " 'Nov',\n",
       " 'Dec',\n",
       " 'Oct',\n",
       " 'Nov',\n",
       " 'Dec',\n",
       " 'Dec',\n",
       " 'Oct',\n",
       " 'Oct',\n",
       " 'Oct',\n",
       " 'Nov',\n",
       " 'Dec',\n",
       " 'Dec',\n",
       " 'Dec',\n",
       " 'Dec',\n",
       " 'Dec',\n",
       " 'Dec',\n",
       " 'Jan',\n",
       " 'Feb',\n",
       " 'Feb',\n",
       " 'May',\n",
       " 'Jul',\n",
       " 'Aug',\n",
       " 'Aug',\n",
       " 'Sep',\n",
       " 'Sep',\n",
       " 'Nov',\n",
       " 'Nov',\n",
       " 'Nov',\n",
       " 'Dec',\n",
       " 'Aug',\n",
       " 'Dec',\n",
       " 'Jan',\n",
       " 'Jun',\n",
       " 'Jul',\n",
       " 'Jul',\n",
       " 'Aug',\n",
       " 'Jan',\n",
       " 'Jun',\n",
       " 'Jan',\n",
       " 'Jan',\n",
       " 'Feb',\n",
       " 'Mar',\n",
       " 'Mar',\n",
       " 'Apr',\n",
       " 'Apr',\n",
       " 'May',\n",
       " 'May',\n",
       " 'May',\n",
       " 'May',\n",
       " 'Jun',\n",
       " 'Jun',\n",
       " 'Jun',\n",
       " 'Jun',\n",
       " 'Sep',\n",
       " 'Sep',\n",
       " 'Sep',\n",
       " 'Sep',\n",
       " 'Sep',\n",
       " 'Dec',\n",
       " 'Oct',\n",
       " 'Nov',\n",
       " 'Nov',\n",
       " 'Nov',\n",
       " 'Nov',\n",
       " 'Nov',\n",
       " 'Dec',\n",
       " 'Dec',\n",
       " 'Dec',\n",
       " 'May',\n",
       " 'Sep',\n",
       " 'Nov',\n",
       " 'Nov',\n",
       " 'Dec',\n",
       " 'Dec',\n",
       " 'Jan',\n",
       " 'Jan',\n",
       " 'Jan',\n",
       " 'Jan',\n",
       " 'Jan',\n",
       " 'Jan',\n",
       " 'Jan',\n",
       " 'Jan',\n",
       " 'Feb',\n",
       " 'Mar',\n",
       " 'Mar',\n",
       " 'Mar',\n",
       " 'Mar',\n",
       " 'Mar',\n",
       " 'Mar',\n",
       " 'Mar',\n",
       " 'Mar',\n",
       " 'Apr',\n",
       " 'Apr',\n",
       " 'Apr',\n",
       " 'Apr',\n",
       " 'Apr',\n",
       " 'Apr',\n",
       " 'Apr',\n",
       " 'Apr',\n",
       " 'Apr',\n",
       " 'Apr',\n",
       " 'May',\n",
       " 'May',\n",
       " 'May',\n",
       " 'May',\n",
       " 'May',\n",
       " 'May',\n",
       " 'May',\n",
       " 'May',\n",
       " 'May',\n",
       " 'May',\n",
       " 'May',\n",
       " 'Jun',\n",
       " 'Jun',\n",
       " 'Jun',\n",
       " 'Jun',\n",
       " 'Jun',\n",
       " 'Jun',\n",
       " 'Apr',\n",
       " 'Apr',\n",
       " 'May',\n",
       " 'May',\n",
       " 'May',\n",
       " 'May',\n",
       " 'May',\n",
       " 'Jun',\n",
       " 'Jun',\n",
       " 'Jun',\n",
       " 'Jun',\n",
       " 'Jun',\n",
       " 'Jun',\n",
       " 'Jun',\n",
       " 'Jul',\n",
       " 'Jul',\n",
       " 'Jul',\n",
       " 'Jul',\n",
       " 'Jul',\n",
       " 'Jul',\n",
       " 'Jul',\n",
       " 'Jul',\n",
       " 'Jul',\n",
       " 'Jul',\n",
       " 'Jul',\n",
       " 'Jul',\n",
       " 'Jul',\n",
       " 'Jul',\n",
       " 'Jul',\n",
       " 'Jul',\n",
       " 'Aug',\n",
       " 'Aug',\n",
       " 'Aug',\n",
       " 'Aug',\n",
       " 'Aug',\n",
       " 'Sep',\n",
       " 'Sep',\n",
       " 'Sep',\n",
       " 'Sep',\n",
       " 'Sep',\n",
       " 'Sep',\n",
       " 'Sep',\n",
       " 'Sep',\n",
       " 'Sep',\n",
       " 'Sep',\n",
       " 'Sep',\n",
       " 'Oct',\n",
       " 'Oct',\n",
       " 'Oct',\n",
       " 'Oct',\n",
       " 'Oct',\n",
       " 'Oct',\n",
       " 'Oct',\n",
       " 'Oct',\n",
       " 'Oct',\n",
       " 'Oct',\n",
       " 'Oct',\n",
       " 'Oct',\n",
       " 'Oct',\n",
       " 'Oct',\n",
       " 'Oct',\n",
       " 'Nov',\n",
       " 'Nov',\n",
       " 'Nov',\n",
       " 'Nov',\n",
       " 'Nov',\n",
       " 'Nov',\n",
       " 'Nov',\n",
       " 'Dec',\n",
       " 'Dec',\n",
       " 'Dec',\n",
       " 'Dec',\n",
       " 'Dec',\n",
       " 'Dec',\n",
       " 'Dec',\n",
       " 'Dec',\n",
       " 'Dec',\n",
       " 'Dec',\n",
       " 'Dec',\n",
       " 'Jan',\n",
       " 'Jan',\n",
       " 'Jan',\n",
       " 'Jan',\n",
       " 'Jan',\n",
       " 'Jan',\n",
       " 'Feb',\n",
       " 'Feb',\n",
       " 'Feb',\n",
       " 'Feb',\n",
       " 'Mar',\n",
       " 'Mar',\n",
       " 'Mar',\n",
       " 'May',\n",
       " 'May',\n",
       " 'May',\n",
       " 'Jun',\n",
       " 'Jul',\n",
       " 'Aug',\n",
       " 'Aug',\n",
       " 'Aug',\n",
       " 'Aug',\n",
       " 'Sep',\n",
       " 'Sep',\n",
       " 'Sep',\n",
       " 'Sep',\n",
       " 'Sep',\n",
       " 'Sep',\n",
       " 'Sep',\n",
       " 'Oct',\n",
       " 'Oct',\n",
       " 'Nov',\n",
       " 'Nov',\n",
       " 'Nov',\n",
       " 'Nov',\n",
       " 'Nov',\n",
       " 'Nov',\n",
       " 'Dec',\n",
       " 'Dec',\n",
       " 'Dec',\n",
       " 'Sep',\n",
       " 'May',\n",
       " 'Apr',\n",
       " 'Jun',\n",
       " 'Nov',\n",
       " 'Jan',\n",
       " 'Jan',\n",
       " 'Feb',\n",
       " 'Feb',\n",
       " 'Feb',\n",
       " 'Feb',\n",
       " 'Mar',\n",
       " 'Apr',\n",
       " 'May',\n",
       " 'May',\n",
       " 'May',\n",
       " 'Sep',\n",
       " 'Jul',\n",
       " 'Jul',\n",
       " 'Aug',\n",
       " 'Sep',\n",
       " 'Sep',\n",
       " 'Jul',\n",
       " 'Oct',\n",
       " 'Oct',\n",
       " 'Oct',\n",
       " 'Oct',\n",
       " 'Oct',\n",
       " 'Nov',\n",
       " 'Nov',\n",
       " 'Nov',\n",
       " 'Nov',\n",
       " 'Dec',\n",
       " 'Dec',\n",
       " 'Dec',\n",
       " 'Jan',\n",
       " 'Oct',\n",
       " 'Oct',\n",
       " 'Dec',\n",
       " 'Jun',\n",
       " 'May',\n",
       " 'Oct',\n",
       " 'Oct',\n",
       " 'Nov',\n",
       " 'Mar',\n",
       " 'Jan',\n",
       " 'Apr',\n",
       " 'May',\n",
       " 'May',\n",
       " 'Apr',\n",
       " 'May',\n",
       " 'Jul',\n",
       " 'Aug',\n",
       " 'Aug',\n",
       " 'Aug',\n",
       " 'Oct',\n",
       " 'Oct',\n",
       " 'Nov',\n",
       " 'Dec',\n",
       " 'Dec',\n",
       " 'Feb',\n",
       " 'Apr',\n",
       " 'May',\n",
       " 'Jul',\n",
       " 'Sep',\n",
       " 'Sep',\n",
       " 'Sep',\n",
       " 'Oct',\n",
       " 'Oct',\n",
       " 'Oct',\n",
       " 'Nov',\n",
       " 'Dec',\n",
       " 'Jan',\n",
       " 'Jan',\n",
       " 'Feb',\n",
       " 'Mar',\n",
       " 'Mar',\n",
       " 'Apr',\n",
       " 'Apr',\n",
       " 'May',\n",
       " 'May',\n",
       " 'May',\n",
       " 'May',\n",
       " 'May',\n",
       " 'Jun',\n",
       " 'Jul',\n",
       " 'Jul',\n",
       " 'Jul',\n",
       " 'Jul',\n",
       " 'Jul',\n",
       " 'Sep',\n",
       " 'Oct',\n",
       " 'Oct',\n",
       " 'Oct',\n",
       " 'Nov',\n",
       " 'Nov',\n",
       " 'Nov',\n",
       " 'Nov',\n",
       " 'Dec',\n",
       " 'Dec',\n",
       " 'Feb',\n",
       " 'May',\n",
       " 'Jun',\n",
       " 'Jul',\n",
       " 'Jul',\n",
       " 'Aug',\n",
       " 'Aug',\n",
       " 'Sep',\n",
       " 'Oct',\n",
       " 'Nov',\n",
       " 'Dec',\n",
       " 'Aug',\n",
       " 'Jan',\n",
       " 'Jan',\n",
       " 'Jan',\n",
       " 'Jan',\n",
       " 'Jan',\n",
       " 'Feb',\n",
       " 'Feb',\n",
       " 'Mar',\n",
       " 'Mar',\n",
       " 'Mar',\n",
       " 'Mar',\n",
       " 'Apr',\n",
       " 'Apr',\n",
       " 'Apr',\n",
       " 'Apr',\n",
       " 'Apr',\n",
       " 'Apr',\n",
       " 'Apr',\n",
       " 'May',\n",
       " 'May',\n",
       " 'May',\n",
       " 'Jun',\n",
       " 'Jun',\n",
       " 'Jun',\n",
       " 'Jun',\n",
       " 'Jun',\n",
       " 'Jun',\n",
       " 'Jun',\n",
       " 'Jun',\n",
       " 'Jun',\n",
       " 'Jul',\n",
       " 'Jul',\n",
       " 'Aug',\n",
       " 'Aug',\n",
       " 'Aug',\n",
       " 'Sep',\n",
       " 'Sep',\n",
       " 'Sep',\n",
       " 'Sep',\n",
       " 'Sep',\n",
       " 'Oct',\n",
       " 'Oct',\n",
       " 'Oct',\n",
       " 'Nov',\n",
       " 'Nov',\n",
       " 'Nov',\n",
       " 'Nov',\n",
       " 'Nov',\n",
       " 'Nov',\n",
       " 'Nov',\n",
       " 'Dec',\n",
       " 'Dec',\n",
       " 'Dec',\n",
       " 'Dec',\n",
       " 'Dec',\n",
       " 'Dec',\n",
       " 'Dec',\n",
       " 'Aug',\n",
       " 'Jan',\n",
       " 'Jan',\n",
       " 'Jan',\n",
       " 'Feb',\n",
       " 'Mar',\n",
       " 'Mar',\n",
       " 'Mar',\n",
       " 'Mar',\n",
       " 'Mar',\n",
       " 'Mar',\n",
       " 'Mar',\n",
       " 'Apr',\n",
       " 'Apr',\n",
       " 'Apr',\n",
       " 'Apr',\n",
       " 'May',\n",
       " 'May',\n",
       " 'May',\n",
       " 'May',\n",
       " 'May',\n",
       " 'Jun',\n",
       " 'Jun',\n",
       " 'Jun',\n",
       " 'Jun',\n",
       " 'May',\n",
       " 'Jun',\n",
       " 'Jul',\n",
       " 'Jul',\n",
       " 'Jul',\n",
       " 'Jul',\n",
       " 'Aug',\n",
       " 'Sep',\n",
       " 'Sep',\n",
       " 'Sep',\n",
       " 'Sep',\n",
       " 'Sep',\n",
       " 'Sep',\n",
       " 'Oct',\n",
       " 'Nov',\n",
       " 'Nov',\n",
       " 'Nov',\n",
       " 'Nov',\n",
       " 'Nov',\n",
       " 'Nov',\n",
       " 'Nov',\n",
       " 'Dec',\n",
       " 'Dec',\n",
       " 'Dec',\n",
       " 'Feb',\n",
       " 'Jun',\n",
       " 'Jul',\n",
       " 'Dec',\n",
       " 'Feb',\n",
       " 'Jan',\n",
       " 'Jan',\n",
       " 'May',\n",
       " 'Jun',\n",
       " 'Jun',\n",
       " 'May',\n",
       " 'May',\n",
       " 'Jun',\n",
       " 'Jul',\n",
       " 'Aug',\n",
       " 'Sep',\n",
       " 'Sep',\n",
       " 'Nov',\n",
       " 'Nov',\n",
       " 'Nov',\n",
       " 'Dec',\n",
       " 'Dec',\n",
       " 'Dec',\n",
       " 'Dec',\n",
       " 'May',\n",
       " 'Jun',\n",
       " 'Nov',\n",
       " 'Jul',\n",
       " 'Jan',\n",
       " 'Jan',\n",
       " 'Apr',\n",
       " 'Apr',\n",
       " 'May',\n",
       " 'Jul',\n",
       " 'Jul',\n",
       " 'Aug',\n",
       " 'Sep',\n",
       " 'Nov',\n",
       " 'Nov',\n",
       " 'Apr',\n",
       " 'Sep',\n",
       " 'Nov',\n",
       " 'Nov',\n",
       " 'Dec',\n",
       " 'Aug',\n",
       " 'Dec',\n",
       " 'Dec',\n",
       " 'Sep',\n",
       " 'Jan',\n",
       " ...]"
      ]
     },
     "execution_count": 110,
     "metadata": {},
     "output_type": "execute_result"
    }
   ],
   "source": [
    "months = ['Jan', 'Feb', 'Mar', 'Apr', 'May', 'Jun',\n",
    "          'Jul', 'Aug', 'Sep', 'Oct', 'Nov', 'Dec']\n",
    "\n",
    "FMONTH_in_words = []\n",
    "\n",
    "a = df['FMONTH'].tolist()\n",
    "\n",
    "for i in a:\n",
    "    \n",
    "    FMONTH_in_words.append(months[int(i)-1])\n",
    "    \n",
    "FMONTH_in_words\n",
    "    \n",
    "    "
   ]
  },
  {
   "cell_type": "code",
   "execution_count": 112,
   "metadata": {},
   "outputs": [
    {
     "name": "stdout",
     "output_type": "stream",
     "text": [
      "['Jan', 'Jan', 'Jan', 'Jan', 'Feb', 'Mar', 'Mar', 'Mar', 'Apr', 'Apr']\n",
      "[1.0, 1.0, 1.0, 1.0, 2.0, 3.0, 3.0, 3.0, 4.0, 4.0]\n"
     ]
    }
   ],
   "source": [
    "# check month in words\n",
    "print(FMONTH_in_words[:10])\n",
    "print(a[:10])"
   ]
  },
  {
   "cell_type": "code",
   "execution_count": 113,
   "metadata": {},
   "outputs": [
    {
     "data": {
      "text/plain": [
       "0    Jan\n",
       "1    Jan\n",
       "2    Jan\n",
       "3    Jan\n",
       "4    Feb\n",
       "Name: FMONTH_in_WORDS, dtype: object"
      ]
     },
     "execution_count": 113,
     "metadata": {},
     "output_type": "execute_result"
    }
   ],
   "source": [
    "df['FMONTH_in_WORDS'] = FMONTH_in_words\n",
    "\n",
    "df['FMONTH_in_WORDS'].head()"
   ]
  },
  {
   "cell_type": "code",
   "execution_count": 114,
   "metadata": {},
   "outputs": [
    {
     "data": {
      "text/plain": [
       "Jul    47639\n",
       "Jan    46003\n",
       "Oct    45007\n",
       "Apr    44861\n",
       "Feb    40549\n",
       "Mar    40314\n",
       "Aug    39660\n",
       "May    39362\n",
       "Nov    38348\n",
       "Jun    37118\n",
       "Sep    36833\n",
       "Dec    36079\n",
       "Name: FMONTH_in_WORDS, dtype: int64"
      ]
     },
     "execution_count": 114,
     "metadata": {},
     "output_type": "execute_result"
    }
   ],
   "source": [
    "df['FMONTH_in_WORDS'].value_counts()"
   ]
  },
  {
   "cell_type": "code",
   "execution_count": 115,
   "metadata": {},
   "outputs": [
    {
     "data": {
      "text/html": [
       "<div>\n",
       "<style scoped>\n",
       "    .dataframe tbody tr th:only-of-type {\n",
       "        vertical-align: middle;\n",
       "    }\n",
       "\n",
       "    .dataframe tbody tr th {\n",
       "        vertical-align: top;\n",
       "    }\n",
       "\n",
       "    .dataframe thead th {\n",
       "        text-align: right;\n",
       "    }\n",
       "</style>\n",
       "<table border=\"1\" class=\"dataframe\">\n",
       "  <thead>\n",
       "    <tr style=\"text-align: right;\">\n",
       "      <th></th>\n",
       "      <th>Month</th>\n",
       "      <th>Count</th>\n",
       "    </tr>\n",
       "  </thead>\n",
       "  <tbody>\n",
       "    <tr>\n",
       "      <td>0</td>\n",
       "      <td>Jul</td>\n",
       "      <td>47639</td>\n",
       "    </tr>\n",
       "    <tr>\n",
       "      <td>1</td>\n",
       "      <td>Jan</td>\n",
       "      <td>46003</td>\n",
       "    </tr>\n",
       "    <tr>\n",
       "      <td>2</td>\n",
       "      <td>Oct</td>\n",
       "      <td>45007</td>\n",
       "    </tr>\n",
       "    <tr>\n",
       "      <td>3</td>\n",
       "      <td>Apr</td>\n",
       "      <td>44861</td>\n",
       "    </tr>\n",
       "    <tr>\n",
       "      <td>4</td>\n",
       "      <td>Feb</td>\n",
       "      <td>40549</td>\n",
       "    </tr>\n",
       "    <tr>\n",
       "      <td>5</td>\n",
       "      <td>Mar</td>\n",
       "      <td>40314</td>\n",
       "    </tr>\n",
       "    <tr>\n",
       "      <td>6</td>\n",
       "      <td>Aug</td>\n",
       "      <td>39660</td>\n",
       "    </tr>\n",
       "    <tr>\n",
       "      <td>7</td>\n",
       "      <td>May</td>\n",
       "      <td>39362</td>\n",
       "    </tr>\n",
       "    <tr>\n",
       "      <td>8</td>\n",
       "      <td>Nov</td>\n",
       "      <td>38348</td>\n",
       "    </tr>\n",
       "    <tr>\n",
       "      <td>9</td>\n",
       "      <td>Jun</td>\n",
       "      <td>37118</td>\n",
       "    </tr>\n",
       "    <tr>\n",
       "      <td>10</td>\n",
       "      <td>Sep</td>\n",
       "      <td>36833</td>\n",
       "    </tr>\n",
       "    <tr>\n",
       "      <td>11</td>\n",
       "      <td>Dec</td>\n",
       "      <td>36079</td>\n",
       "    </tr>\n",
       "  </tbody>\n",
       "</table>\n",
       "</div>"
      ],
      "text/plain": [
       "   Month  Count\n",
       "0    Jul  47639\n",
       "1    Jan  46003\n",
       "2    Oct  45007\n",
       "3    Apr  44861\n",
       "4    Feb  40549\n",
       "5    Mar  40314\n",
       "6    Aug  39660\n",
       "7    May  39362\n",
       "8    Nov  38348\n",
       "9    Jun  37118\n",
       "10   Sep  36833\n",
       "11   Dec  36079"
      ]
     },
     "execution_count": 115,
     "metadata": {},
     "output_type": "execute_result"
    }
   ],
   "source": [
    "month_dist_df = df['FMONTH_in_WORDS'].value_counts().to_frame()\n",
    "\n",
    "month_dist_df.reset_index(inplace=True)\n",
    "\n",
    "cols = ['Month', 'Count']\n",
    "\n",
    "month_dist_df.columns = cols\n",
    "\n",
    "month_dist_df"
   ]
  },
  {
   "cell_type": "code",
   "execution_count": 116,
   "metadata": {},
   "outputs": [
    {
     "data": {
      "image/png": "[encoded data removed]",
      "text/plain": [
       "<Figure size 864x504 with 1 Axes>"
      ]
     },
     "metadata": {},
     "output_type": "display_data"
    }
   ],
   "source": [
    "# Visualizing class distribution\n",
    "\n",
    "import matplotlib.pyplot as plt\n",
    "class_name = month_dist_df['Month']\n",
    "count = month_dist_df['Count']\n",
    "plt.figure(figsize=(12,7))\n",
    "plt.bar(class_name, count)\n",
    "plt.title('Bar Chart of Class Distribution')\n",
    "plt.xlabel(\"Class\", fontsize=10)\n",
    "plt.ylabel(\"Count\", fontsize=10)\n",
    "plt.show()"
   ]
  },
  {
   "cell_type": "markdown",
   "metadata": {},
   "source": [
    "[Go back](#goback)"
   ]
  },
  {
   "cell_type": "markdown",
   "metadata": {},
   "source": [
    "<a id='h7'></a>\n",
    "### 7. Side by side box plot"
   ]
  },
  {
   "cell_type": "code",
   "execution_count": 118,
   "metadata": {},
   "outputs": [
    {
     "data": {
      "text/plain": [
       "<matplotlib.axes._subplots.AxesSubplot at 0xabe0c67b8>"
      ]
     },
     "execution_count": 118,
     "metadata": {},
     "output_type": "execute_result"
    },
    {
     "data": {
      "image/png": "[encoded data removed]",
      "text/plain": [
       "<Figure size 864x504 with 1 Axes>"
      ]
     },
     "metadata": {},
     "output_type": "display_data"
    }
   ],
   "source": [
    "sns.set()\n",
    "plt.figure(figsize=(12,7))\n",
    "sns.boxplot(x = 'FMONTH_in_WORDS', y = '_STATE', data = df) # vertical box plot\n",
    "\n"
   ]
  },
  {
   "cell_type": "code",
   "execution_count": 119,
   "metadata": {},
   "outputs": [
    {
     "data": {
      "text/plain": [
       "<matplotlib.axes._subplots.AxesSubplot at 0xa958996a0>"
      ]
     },
     "execution_count": 119,
     "metadata": {},
     "output_type": "execute_result"
    },
    {
     "data": {
      "image/png": "[encoded data removed]",
      "text/plain": [
       "<Figure size 504x864 with 1 Axes>"
      ]
     },
     "metadata": {},
     "output_type": "display_data"
    }
   ],
   "source": [
    "# horizontal box plot\n",
    "\n",
    "plt.figure(figsize=(7,12))\n",
    "sns.boxplot(x = '_STATE', y = 'FMONTH_in_WORDS', data = df) # vertical box plot\n"
   ]
  },
  {
   "cell_type": "code",
   "execution_count": 127,
   "metadata": {},
   "outputs": [],
   "source": [
    "# Now make side by side box plot bny using _STSTR variable"
   ]
  },
  {
   "cell_type": "code",
   "execution_count": 128,
   "metadata": {},
   "outputs": [
    {
     "data": {
      "text/plain": [
       "<matplotlib.axes._subplots.AxesSubplot at 0xa95817ba8>"
      ]
     },
     "execution_count": 128,
     "metadata": {},
     "output_type": "execute_result"
    },
    {
     "data": {
      "image/png": "[encoded data removed]",
      "text/plain": [
       "<Figure size 864x504 with 1 Axes>"
      ]
     },
     "metadata": {},
     "output_type": "display_data"
    }
   ],
   "source": [
    "plt.figure(figsize=(12,7))\n",
    "sns.boxplot(x = 'FMONTH_in_WORDS', y = '_STSTR', data = df) # vertical box plot"
   ]
  },
  {
   "cell_type": "code",
   "execution_count": 129,
   "metadata": {},
   "outputs": [
    {
     "data": {
      "text/plain": [
       "<matplotlib.axes._subplots.AxesSubplot at 0xa964cddd8>"
      ]
     },
     "execution_count": 129,
     "metadata": {},
     "output_type": "execute_result"
    },
    {
     "data": {
      "image/png": "[encoded data removed]",
      "text/plain": [
       "<Figure size 504x720 with 1 Axes>"
      ]
     },
     "metadata": {},
     "output_type": "display_data"
    }
   ],
   "source": [
    "plt.figure(figsize=(7,10))\n",
    "sns.boxplot(x = '_STSTR', y = 'FMONTH_in_WORDS', data = df) # horizontal box plot"
   ]
  },
  {
   "cell_type": "markdown",
   "metadata": {},
   "source": [
    "[Go back](#goback)"
   ]
  },
  {
   "cell_type": "markdown",
   "metadata": {},
   "source": [
    "<a id='h8'></a>\n",
    "### 8. Row & Column Proportion"
   ]
  },
  {
   "cell_type": "code",
   "execution_count": 131,
   "metadata": {},
   "outputs": [],
   "source": [
    "# Make relative frequency table"
   ]
  },
  {
   "cell_type": "code",
   "execution_count": 132,
   "metadata": {},
   "outputs": [],
   "source": [
    "diff_saving = ['very', 'somewhat', 'not very', 'not at all', 'not sure']\n",
    "less_than_40k = [128,54,17,3,0]\n",
    "middle_40_to_80 = [63, 71,7 , 6, 1]\n",
    "great_than_80 = [31,61, 27, 5, 0]\n",
    "refused = [9, 10, 7, 0, 0]\n",
    "\n"
   ]
  },
  {
   "cell_type": "code",
   "execution_count": 133,
   "metadata": {},
   "outputs": [
    {
     "data": {
      "text/html": [
       "<div>\n",
       "<style scoped>\n",
       "    .dataframe tbody tr th:only-of-type {\n",
       "        vertical-align: middle;\n",
       "    }\n",
       "\n",
       "    .dataframe tbody tr th {\n",
       "        vertical-align: top;\n",
       "    }\n",
       "\n",
       "    .dataframe thead th {\n",
       "        text-align: right;\n",
       "    }\n",
       "</style>\n",
       "<table border=\"1\" class=\"dataframe\">\n",
       "  <thead>\n",
       "    <tr style=\"text-align: right;\">\n",
       "      <th></th>\n",
       "      <th>Difficulty Saving</th>\n",
       "      <th>&lt;40k</th>\n",
       "      <th>40k-80k</th>\n",
       "      <th>&gt;80k</th>\n",
       "      <th>Refused</th>\n",
       "    </tr>\n",
       "  </thead>\n",
       "  <tbody>\n",
       "    <tr>\n",
       "      <td>0</td>\n",
       "      <td>very</td>\n",
       "      <td>128</td>\n",
       "      <td>63</td>\n",
       "      <td>31</td>\n",
       "      <td>9</td>\n",
       "    </tr>\n",
       "    <tr>\n",
       "      <td>1</td>\n",
       "      <td>somewhat</td>\n",
       "      <td>54</td>\n",
       "      <td>71</td>\n",
       "      <td>61</td>\n",
       "      <td>10</td>\n",
       "    </tr>\n",
       "    <tr>\n",
       "      <td>2</td>\n",
       "      <td>not very</td>\n",
       "      <td>17</td>\n",
       "      <td>7</td>\n",
       "      <td>27</td>\n",
       "      <td>7</td>\n",
       "    </tr>\n",
       "    <tr>\n",
       "      <td>3</td>\n",
       "      <td>not at all</td>\n",
       "      <td>3</td>\n",
       "      <td>6</td>\n",
       "      <td>5</td>\n",
       "      <td>0</td>\n",
       "    </tr>\n",
       "    <tr>\n",
       "      <td>4</td>\n",
       "      <td>not sure</td>\n",
       "      <td>0</td>\n",
       "      <td>1</td>\n",
       "      <td>0</td>\n",
       "      <td>0</td>\n",
       "    </tr>\n",
       "  </tbody>\n",
       "</table>\n",
       "</div>"
      ],
      "text/plain": [
       "  Difficulty Saving  <40k  40k-80k  >80k  Refused\n",
       "0              very   128       63    31        9\n",
       "1          somewhat    54       71    61       10\n",
       "2          not very    17        7    27        7\n",
       "3        not at all     3        6     5        0\n",
       "4          not sure     0        1     0        0"
      ]
     },
     "execution_count": 133,
     "metadata": {},
     "output_type": "execute_result"
    }
   ],
   "source": [
    "relative_freq = pd.DataFrame({'Difficulty Saving': diff_saving,\n",
    "                             '<40k': less_than_40k,\n",
    "                            '40k-80k': middle_40_to_80,\n",
    "                            '>80k': great_than_80, \n",
    "                            'Refused': refused})\n",
    "\n",
    "relative_freq"
   ]
  },
  {
   "cell_type": "code",
   "execution_count": 134,
   "metadata": {},
   "outputs": [
    {
     "data": {
      "text/plain": [
       "['Total', 202, 148, 124, 26]"
      ]
     },
     "execution_count": 134,
     "metadata": {},
     "output_type": "execute_result"
    }
   ],
   "source": [
    "abc = ['Total', sum(relative_freq['<40k']), sum(relative_freq['40k-80k']),\n",
    "       sum(relative_freq['>80k']), sum(relative_freq['Refused'])]\n",
    "\n",
    "abc"
   ]
  },
  {
   "cell_type": "code",
   "execution_count": 135,
   "metadata": {},
   "outputs": [
    {
     "data": {
      "text/html": [
       "<div>\n",
       "<style scoped>\n",
       "    .dataframe tbody tr th:only-of-type {\n",
       "        vertical-align: middle;\n",
       "    }\n",
       "\n",
       "    .dataframe tbody tr th {\n",
       "        vertical-align: top;\n",
       "    }\n",
       "\n",
       "    .dataframe thead th {\n",
       "        text-align: right;\n",
       "    }\n",
       "</style>\n",
       "<table border=\"1\" class=\"dataframe\">\n",
       "  <thead>\n",
       "    <tr style=\"text-align: right;\">\n",
       "      <th></th>\n",
       "      <th>Difficulty Saving</th>\n",
       "      <th>&lt;40k</th>\n",
       "      <th>40k-80k</th>\n",
       "      <th>&gt;80k</th>\n",
       "      <th>Refused</th>\n",
       "    </tr>\n",
       "  </thead>\n",
       "  <tbody>\n",
       "    <tr>\n",
       "      <td>0</td>\n",
       "      <td>very</td>\n",
       "      <td>128</td>\n",
       "      <td>63</td>\n",
       "      <td>31</td>\n",
       "      <td>9</td>\n",
       "    </tr>\n",
       "    <tr>\n",
       "      <td>1</td>\n",
       "      <td>somewhat</td>\n",
       "      <td>54</td>\n",
       "      <td>71</td>\n",
       "      <td>61</td>\n",
       "      <td>10</td>\n",
       "    </tr>\n",
       "    <tr>\n",
       "      <td>2</td>\n",
       "      <td>not very</td>\n",
       "      <td>17</td>\n",
       "      <td>7</td>\n",
       "      <td>27</td>\n",
       "      <td>7</td>\n",
       "    </tr>\n",
       "    <tr>\n",
       "      <td>3</td>\n",
       "      <td>not at all</td>\n",
       "      <td>3</td>\n",
       "      <td>6</td>\n",
       "      <td>5</td>\n",
       "      <td>0</td>\n",
       "    </tr>\n",
       "    <tr>\n",
       "      <td>4</td>\n",
       "      <td>not sure</td>\n",
       "      <td>0</td>\n",
       "      <td>1</td>\n",
       "      <td>0</td>\n",
       "      <td>0</td>\n",
       "    </tr>\n",
       "    <tr>\n",
       "      <td>5</td>\n",
       "      <td>Total</td>\n",
       "      <td>202</td>\n",
       "      <td>148</td>\n",
       "      <td>124</td>\n",
       "      <td>26</td>\n",
       "    </tr>\n",
       "  </tbody>\n",
       "</table>\n",
       "</div>"
      ],
      "text/plain": [
       "  Difficulty Saving  <40k  40k-80k  >80k  Refused\n",
       "0              very   128       63    31        9\n",
       "1          somewhat    54       71    61       10\n",
       "2          not very    17        7    27        7\n",
       "3        not at all     3        6     5        0\n",
       "4          not sure     0        1     0        0\n",
       "5             Total   202      148   124       26"
      ]
     },
     "execution_count": 135,
     "metadata": {},
     "output_type": "execute_result"
    }
   ],
   "source": [
    "# Pass a series in append() to append a row in dataframe  \n",
    "relative_freq = relative_freq.append(pd.Series(abc, index=relative_freq.columns ), ignore_index=True)\n",
    "relative_freq"
   ]
  },
  {
   "cell_type": "code",
   "execution_count": 136,
   "metadata": {},
   "outputs": [
    {
     "data": {
      "text/plain": [
       "0    231\n",
       "1    196\n",
       "2     58\n",
       "3     14\n",
       "4      1\n",
       "5    500\n",
       "Name: Total, dtype: int64"
      ]
     },
     "execution_count": 136,
     "metadata": {},
     "output_type": "execute_result"
    }
   ],
   "source": [
    "relative_freq['Total'] = relative_freq['<40k']+relative_freq['40k-80k']+relative_freq['>80k']+relative_freq['Refused']\n",
    "relative_freq['Total']"
   ]
  },
  {
   "cell_type": "code",
   "execution_count": 137,
   "metadata": {},
   "outputs": [
    {
     "data": {
      "text/html": [
       "<div>\n",
       "<style scoped>\n",
       "    .dataframe tbody tr th:only-of-type {\n",
       "        vertical-align: middle;\n",
       "    }\n",
       "\n",
       "    .dataframe tbody tr th {\n",
       "        vertical-align: top;\n",
       "    }\n",
       "\n",
       "    .dataframe thead th {\n",
       "        text-align: right;\n",
       "    }\n",
       "</style>\n",
       "<table border=\"1\" class=\"dataframe\">\n",
       "  <thead>\n",
       "    <tr style=\"text-align: right;\">\n",
       "      <th></th>\n",
       "      <th>Difficulty Saving</th>\n",
       "      <th>&lt;40k</th>\n",
       "      <th>40k-80k</th>\n",
       "      <th>&gt;80k</th>\n",
       "      <th>Refused</th>\n",
       "      <th>Total</th>\n",
       "    </tr>\n",
       "  </thead>\n",
       "  <tbody>\n",
       "    <tr>\n",
       "      <td>0</td>\n",
       "      <td>very</td>\n",
       "      <td>128</td>\n",
       "      <td>63</td>\n",
       "      <td>31</td>\n",
       "      <td>9</td>\n",
       "      <td>231</td>\n",
       "    </tr>\n",
       "    <tr>\n",
       "      <td>1</td>\n",
       "      <td>somewhat</td>\n",
       "      <td>54</td>\n",
       "      <td>71</td>\n",
       "      <td>61</td>\n",
       "      <td>10</td>\n",
       "      <td>196</td>\n",
       "    </tr>\n",
       "    <tr>\n",
       "      <td>2</td>\n",
       "      <td>not very</td>\n",
       "      <td>17</td>\n",
       "      <td>7</td>\n",
       "      <td>27</td>\n",
       "      <td>7</td>\n",
       "      <td>58</td>\n",
       "    </tr>\n",
       "    <tr>\n",
       "      <td>3</td>\n",
       "      <td>not at all</td>\n",
       "      <td>3</td>\n",
       "      <td>6</td>\n",
       "      <td>5</td>\n",
       "      <td>0</td>\n",
       "      <td>14</td>\n",
       "    </tr>\n",
       "    <tr>\n",
       "      <td>4</td>\n",
       "      <td>not sure</td>\n",
       "      <td>0</td>\n",
       "      <td>1</td>\n",
       "      <td>0</td>\n",
       "      <td>0</td>\n",
       "      <td>1</td>\n",
       "    </tr>\n",
       "    <tr>\n",
       "      <td>5</td>\n",
       "      <td>Total</td>\n",
       "      <td>202</td>\n",
       "      <td>148</td>\n",
       "      <td>124</td>\n",
       "      <td>26</td>\n",
       "      <td>500</td>\n",
       "    </tr>\n",
       "  </tbody>\n",
       "</table>\n",
       "</div>"
      ],
      "text/plain": [
       "  Difficulty Saving  <40k  40k-80k  >80k  Refused  Total\n",
       "0              very   128       63    31        9    231\n",
       "1          somewhat    54       71    61       10    196\n",
       "2          not very    17        7    27        7     58\n",
       "3        not at all     3        6     5        0     14\n",
       "4          not sure     0        1     0        0      1\n",
       "5             Total   202      148   124       26    500"
      ]
     },
     "execution_count": 137,
     "metadata": {},
     "output_type": "execute_result"
    }
   ],
   "source": [
    "relative_freq"
   ]
  },
  {
   "cell_type": "code",
   "execution_count": 138,
   "metadata": {},
   "outputs": [
    {
     "data": {
      "text/html": [
       "<div>\n",
       "<style scoped>\n",
       "    .dataframe tbody tr th:only-of-type {\n",
       "        vertical-align: middle;\n",
       "    }\n",
       "\n",
       "    .dataframe tbody tr th {\n",
       "        vertical-align: top;\n",
       "    }\n",
       "\n",
       "    .dataframe thead th {\n",
       "        text-align: right;\n",
       "    }\n",
       "</style>\n",
       "<table border=\"1\" class=\"dataframe\">\n",
       "  <thead>\n",
       "    <tr style=\"text-align: right;\">\n",
       "      <th></th>\n",
       "      <th>&lt;40k</th>\n",
       "      <th>40k-80k</th>\n",
       "      <th>&gt;80k</th>\n",
       "      <th>Refused</th>\n",
       "      <th>Total</th>\n",
       "    </tr>\n",
       "    <tr>\n",
       "      <th>Difficulty Saving</th>\n",
       "      <th></th>\n",
       "      <th></th>\n",
       "      <th></th>\n",
       "      <th></th>\n",
       "      <th></th>\n",
       "    </tr>\n",
       "  </thead>\n",
       "  <tbody>\n",
       "    <tr>\n",
       "      <td>very</td>\n",
       "      <td>128</td>\n",
       "      <td>63</td>\n",
       "      <td>31</td>\n",
       "      <td>9</td>\n",
       "      <td>231</td>\n",
       "    </tr>\n",
       "    <tr>\n",
       "      <td>somewhat</td>\n",
       "      <td>54</td>\n",
       "      <td>71</td>\n",
       "      <td>61</td>\n",
       "      <td>10</td>\n",
       "      <td>196</td>\n",
       "    </tr>\n",
       "    <tr>\n",
       "      <td>not very</td>\n",
       "      <td>17</td>\n",
       "      <td>7</td>\n",
       "      <td>27</td>\n",
       "      <td>7</td>\n",
       "      <td>58</td>\n",
       "    </tr>\n",
       "    <tr>\n",
       "      <td>not at all</td>\n",
       "      <td>3</td>\n",
       "      <td>6</td>\n",
       "      <td>5</td>\n",
       "      <td>0</td>\n",
       "      <td>14</td>\n",
       "    </tr>\n",
       "    <tr>\n",
       "      <td>not sure</td>\n",
       "      <td>0</td>\n",
       "      <td>1</td>\n",
       "      <td>0</td>\n",
       "      <td>0</td>\n",
       "      <td>1</td>\n",
       "    </tr>\n",
       "    <tr>\n",
       "      <td>Total</td>\n",
       "      <td>202</td>\n",
       "      <td>148</td>\n",
       "      <td>124</td>\n",
       "      <td>26</td>\n",
       "      <td>500</td>\n",
       "    </tr>\n",
       "  </tbody>\n",
       "</table>\n",
       "</div>"
      ],
      "text/plain": [
       "                   <40k  40k-80k  >80k  Refused  Total\n",
       "Difficulty Saving                                     \n",
       "very                128       63    31        9    231\n",
       "somewhat             54       71    61       10    196\n",
       "not very             17        7    27        7     58\n",
       "not at all            3        6     5        0     14\n",
       "not sure              0        1     0        0      1\n",
       "Total               202      148   124       26    500"
      ]
     },
     "execution_count": 138,
     "metadata": {},
     "output_type": "execute_result"
    }
   ],
   "source": [
    "# reset index difficulty saving\n",
    "\n",
    "relative_freq.set_index(\"Difficulty Saving\", inplace = True)\n",
    "relative_freq"
   ]
  },
  {
   "cell_type": "code",
   "execution_count": 139,
   "metadata": {},
   "outputs": [],
   "source": [
    "# now we can find 2 important info from that table\n",
    "# 1- row proportion\n",
    "# 2- column proportion"
   ]
  },
  {
   "cell_type": "code",
   "execution_count": 140,
   "metadata": {},
   "outputs": [
    {
     "data": {
      "text/plain": [
       "0.55"
      ]
     },
     "execution_count": 140,
     "metadata": {},
     "output_type": "execute_result"
    }
   ],
   "source": [
    "# 1- row proportion\n",
    "\n",
    "round((relative_freq.loc['very']['<40k']) / (relative_freq.loc['very']['Total']),2)\n"
   ]
  },
  {
   "cell_type": "code",
   "execution_count": 141,
   "metadata": {},
   "outputs": [
    {
     "data": {
      "text/plain": [
       "[[0.55, 0.27, 0.13, 0.04],\n",
       " [0.28, 0.36, 0.31, 0.05],\n",
       " [0.29, 0.12, 0.47, 0.12],\n",
       " [0.21, 0.43, 0.36, 0.0],\n",
       " [0.0, 1.0, 0.0, 0.0]]"
      ]
     },
     "execution_count": 141,
     "metadata": {},
     "output_type": "execute_result"
    }
   ],
   "source": [
    "indices = relative_freq.index\n",
    "cols = relative_freq.columns\n",
    "proportion_matrix = []\n",
    "\n",
    "for i in range(len(indices)-1):\n",
    "    \n",
    "    proportions = []\n",
    "    \n",
    "    for j in range(len(cols)-1):\n",
    "        proportion = relative_freq.loc[indices[i]][cols[j]] / relative_freq.loc[indices[i]]['Total'] \n",
    "        proportions.append(round(proportion,2))\n",
    "        \n",
    "    proportion_matrix.append(proportions)\n",
    "    \n",
    "proportion_matrix"
   ]
  },
  {
   "cell_type": "code",
   "execution_count": 142,
   "metadata": {},
   "outputs": [
    {
     "data": {
      "text/html": [
       "<div>\n",
       "<style scoped>\n",
       "    .dataframe tbody tr th:only-of-type {\n",
       "        vertical-align: middle;\n",
       "    }\n",
       "\n",
       "    .dataframe tbody tr th {\n",
       "        vertical-align: top;\n",
       "    }\n",
       "\n",
       "    .dataframe thead th {\n",
       "        text-align: right;\n",
       "    }\n",
       "</style>\n",
       "<table border=\"1\" class=\"dataframe\">\n",
       "  <thead>\n",
       "    <tr style=\"text-align: right;\">\n",
       "      <th></th>\n",
       "      <th>&lt;40k</th>\n",
       "      <th>40k-80k</th>\n",
       "      <th>&gt;80k</th>\n",
       "      <th>Refused</th>\n",
       "    </tr>\n",
       "  </thead>\n",
       "  <tbody>\n",
       "    <tr>\n",
       "      <td>very</td>\n",
       "      <td>0.55</td>\n",
       "      <td>0.27</td>\n",
       "      <td>0.13</td>\n",
       "      <td>0.04</td>\n",
       "    </tr>\n",
       "    <tr>\n",
       "      <td>somewhat</td>\n",
       "      <td>0.28</td>\n",
       "      <td>0.36</td>\n",
       "      <td>0.31</td>\n",
       "      <td>0.05</td>\n",
       "    </tr>\n",
       "    <tr>\n",
       "      <td>not very</td>\n",
       "      <td>0.29</td>\n",
       "      <td>0.12</td>\n",
       "      <td>0.47</td>\n",
       "      <td>0.12</td>\n",
       "    </tr>\n",
       "    <tr>\n",
       "      <td>not at all</td>\n",
       "      <td>0.21</td>\n",
       "      <td>0.43</td>\n",
       "      <td>0.36</td>\n",
       "      <td>0.00</td>\n",
       "    </tr>\n",
       "    <tr>\n",
       "      <td>not sure</td>\n",
       "      <td>0.00</td>\n",
       "      <td>1.00</td>\n",
       "      <td>0.00</td>\n",
       "      <td>0.00</td>\n",
       "    </tr>\n",
       "  </tbody>\n",
       "</table>\n",
       "</div>"
      ],
      "text/plain": [
       "            <40k  40k-80k  >80k  Refused\n",
       "very        0.55     0.27  0.13     0.04\n",
       "somewhat    0.28     0.36  0.31     0.05\n",
       "not very    0.29     0.12  0.47     0.12\n",
       "not at all  0.21     0.43  0.36     0.00\n",
       "not sure    0.00     1.00  0.00     0.00"
      ]
     },
     "execution_count": 142,
     "metadata": {},
     "output_type": "execute_result"
    }
   ],
   "source": [
    "indices = list(relative_freq.index)\n",
    "del(indices[-1])\n",
    "\n",
    "cols = list(relative_freq.columns)\n",
    "del(cols[-1])\n",
    "\n",
    "row_proportion_table = pd.DataFrame(proportion_matrix, index = indices, columns = cols)\n",
    "row_proportion_table"
   ]
  },
  {
   "cell_type": "markdown",
   "metadata": {},
   "source": [
    "### Row Proportion desc\n",
    "\n",
    "It is used for distributing data of a single row.<br>\n",
    "\n",
    "e.g<br>\n",
    "#### very main:\n",
    "55% <b> less than 40k</b> waly hain <br>\n",
    "27% <b> b/w 40k-80k</b> waly hain<br>\n",
    "13% <b> greater than 80k</b> waly hain<br>\n",
    "4% <b> Refused to get the answer</b> waly hain"
   ]
  },
  {
   "cell_type": "code",
   "execution_count": 143,
   "metadata": {},
   "outputs": [
    {
     "data": {
      "text/plain": [
       "0.63"
      ]
     },
     "execution_count": 143,
     "metadata": {},
     "output_type": "execute_result"
    }
   ],
   "source": [
    "# 2- Column Proportion Table\n",
    "\n",
    "round((relative_freq.loc['very']['<40k']) / (relative_freq.loc['Total']['<40k']),2)\n"
   ]
  },
  {
   "cell_type": "code",
   "execution_count": 144,
   "metadata": {},
   "outputs": [
    {
     "data": {
      "text/plain": [
       "[[0.63, 0.43, 0.25, 0.35],\n",
       " [0.27, 0.48, 0.49, 0.38],\n",
       " [0.08, 0.05, 0.22, 0.27],\n",
       " [0.01, 0.04, 0.04, 0.0],\n",
       " [0.0, 0.01, 0.0, 0.0]]"
      ]
     },
     "execution_count": 144,
     "metadata": {},
     "output_type": "execute_result"
    }
   ],
   "source": [
    "indices = relative_freq.index\n",
    "cols = relative_freq.columns\n",
    "proportion_matrix = []\n",
    "\n",
    "for i in range(len(indices)-1):\n",
    "    \n",
    "    proportions = []\n",
    "    \n",
    "    for j in range(len(cols)-1):\n",
    "        proportion = relative_freq.loc[indices[i]][cols[j]] / relative_freq.loc['Total'][cols[j]] \n",
    "        proportions.append(round(proportion,2))\n",
    "        \n",
    "    proportion_matrix.append(proportions)\n",
    "    \n",
    "proportion_matrix"
   ]
  },
  {
   "cell_type": "code",
   "execution_count": 145,
   "metadata": {},
   "outputs": [
    {
     "data": {
      "text/html": [
       "<div>\n",
       "<style scoped>\n",
       "    .dataframe tbody tr th:only-of-type {\n",
       "        vertical-align: middle;\n",
       "    }\n",
       "\n",
       "    .dataframe tbody tr th {\n",
       "        vertical-align: top;\n",
       "    }\n",
       "\n",
       "    .dataframe thead th {\n",
       "        text-align: right;\n",
       "    }\n",
       "</style>\n",
       "<table border=\"1\" class=\"dataframe\">\n",
       "  <thead>\n",
       "    <tr style=\"text-align: right;\">\n",
       "      <th></th>\n",
       "      <th>&lt;40k</th>\n",
       "      <th>40k-80k</th>\n",
       "      <th>&gt;80k</th>\n",
       "      <th>Refused</th>\n",
       "    </tr>\n",
       "  </thead>\n",
       "  <tbody>\n",
       "    <tr>\n",
       "      <td>very</td>\n",
       "      <td>0.63</td>\n",
       "      <td>0.43</td>\n",
       "      <td>0.25</td>\n",
       "      <td>0.35</td>\n",
       "    </tr>\n",
       "    <tr>\n",
       "      <td>somewhat</td>\n",
       "      <td>0.27</td>\n",
       "      <td>0.48</td>\n",
       "      <td>0.49</td>\n",
       "      <td>0.38</td>\n",
       "    </tr>\n",
       "    <tr>\n",
       "      <td>not very</td>\n",
       "      <td>0.08</td>\n",
       "      <td>0.05</td>\n",
       "      <td>0.22</td>\n",
       "      <td>0.27</td>\n",
       "    </tr>\n",
       "    <tr>\n",
       "      <td>not at all</td>\n",
       "      <td>0.01</td>\n",
       "      <td>0.04</td>\n",
       "      <td>0.04</td>\n",
       "      <td>0.00</td>\n",
       "    </tr>\n",
       "    <tr>\n",
       "      <td>not sure</td>\n",
       "      <td>0.00</td>\n",
       "      <td>0.01</td>\n",
       "      <td>0.00</td>\n",
       "      <td>0.00</td>\n",
       "    </tr>\n",
       "  </tbody>\n",
       "</table>\n",
       "</div>"
      ],
      "text/plain": [
       "            <40k  40k-80k  >80k  Refused\n",
       "very        0.63     0.43  0.25     0.35\n",
       "somewhat    0.27     0.48  0.49     0.38\n",
       "not very    0.08     0.05  0.22     0.27\n",
       "not at all  0.01     0.04  0.04     0.00\n",
       "not sure    0.00     0.01  0.00     0.00"
      ]
     },
     "execution_count": 145,
     "metadata": {},
     "output_type": "execute_result"
    }
   ],
   "source": [
    "indices = list(relative_freq.index)\n",
    "del(indices[-1])\n",
    "\n",
    "cols = list(relative_freq.columns)\n",
    "del(cols[-1])\n",
    "\n",
    "col_proportion_table = pd.DataFrame(proportion_matrix, index = indices, columns = cols)\n",
    "col_proportion_table"
   ]
  },
  {
   "cell_type": "markdown",
   "metadata": {},
   "source": [
    "### Row Proportion desc\n",
    "\n",
    "It is used for distributing data of a single row.<br>\n",
    "\n",
    "e.g<br>\n",
    "#### <40k main:\n",
    "63%<b> very</b> waly hain <br>\n",
    "27% <b> somewhat</b> waly hain<br>\n",
    "8% <b> not very</b> waly hain<br>\n",
    "1% <b> not at all</b> waly hain<br>\n",
    "0% <b> not sure</b> waly hain"
   ]
  },
  {
   "cell_type": "code",
   "execution_count": 146,
   "metadata": {},
   "outputs": [
    {
     "data": {
      "text/html": [
       "<div>\n",
       "<style scoped>\n",
       "    .dataframe tbody tr th:only-of-type {\n",
       "        vertical-align: middle;\n",
       "    }\n",
       "\n",
       "    .dataframe tbody tr th {\n",
       "        vertical-align: top;\n",
       "    }\n",
       "\n",
       "    .dataframe thead th {\n",
       "        text-align: right;\n",
       "    }\n",
       "</style>\n",
       "<table border=\"1\" class=\"dataframe\">\n",
       "  <thead>\n",
       "    <tr style=\"text-align: right;\">\n",
       "      <th></th>\n",
       "      <th>&lt;40k</th>\n",
       "      <th>40k-80k</th>\n",
       "      <th>&gt;80k</th>\n",
       "      <th>Refused</th>\n",
       "      <th>Total</th>\n",
       "    </tr>\n",
       "    <tr>\n",
       "      <th>Difficulty Saving</th>\n",
       "      <th></th>\n",
       "      <th></th>\n",
       "      <th></th>\n",
       "      <th></th>\n",
       "      <th></th>\n",
       "    </tr>\n",
       "  </thead>\n",
       "  <tbody>\n",
       "    <tr>\n",
       "      <td>very</td>\n",
       "      <td>128</td>\n",
       "      <td>63</td>\n",
       "      <td>31</td>\n",
       "      <td>9</td>\n",
       "      <td>231</td>\n",
       "    </tr>\n",
       "    <tr>\n",
       "      <td>somewhat</td>\n",
       "      <td>54</td>\n",
       "      <td>71</td>\n",
       "      <td>61</td>\n",
       "      <td>10</td>\n",
       "      <td>196</td>\n",
       "    </tr>\n",
       "    <tr>\n",
       "      <td>not very</td>\n",
       "      <td>17</td>\n",
       "      <td>7</td>\n",
       "      <td>27</td>\n",
       "      <td>7</td>\n",
       "      <td>58</td>\n",
       "    </tr>\n",
       "    <tr>\n",
       "      <td>not at all</td>\n",
       "      <td>3</td>\n",
       "      <td>6</td>\n",
       "      <td>5</td>\n",
       "      <td>0</td>\n",
       "      <td>14</td>\n",
       "    </tr>\n",
       "    <tr>\n",
       "      <td>not sure</td>\n",
       "      <td>0</td>\n",
       "      <td>1</td>\n",
       "      <td>0</td>\n",
       "      <td>0</td>\n",
       "      <td>1</td>\n",
       "    </tr>\n",
       "    <tr>\n",
       "      <td>Total</td>\n",
       "      <td>202</td>\n",
       "      <td>148</td>\n",
       "      <td>124</td>\n",
       "      <td>26</td>\n",
       "      <td>500</td>\n",
       "    </tr>\n",
       "  </tbody>\n",
       "</table>\n",
       "</div>"
      ],
      "text/plain": [
       "                   <40k  40k-80k  >80k  Refused  Total\n",
       "Difficulty Saving                                     \n",
       "very                128       63    31        9    231\n",
       "somewhat             54       71    61       10    196\n",
       "not very             17        7    27        7     58\n",
       "not at all            3        6     5        0     14\n",
       "not sure              0        1     0        0      1\n",
       "Total               202      148   124       26    500"
      ]
     },
     "execution_count": 146,
     "metadata": {},
     "output_type": "execute_result"
    }
   ],
   "source": [
    "# segmented barplot\n",
    "\n",
    "relative_freq"
   ]
  },
  {
   "cell_type": "code",
   "execution_count": 147,
   "metadata": {},
   "outputs": [
    {
     "data": {
      "text/html": [
       "<div>\n",
       "<style scoped>\n",
       "    .dataframe tbody tr th:only-of-type {\n",
       "        vertical-align: middle;\n",
       "    }\n",
       "\n",
       "    .dataframe tbody tr th {\n",
       "        vertical-align: top;\n",
       "    }\n",
       "\n",
       "    .dataframe thead th {\n",
       "        text-align: right;\n",
       "    }\n",
       "</style>\n",
       "<table border=\"1\" class=\"dataframe\">\n",
       "  <thead>\n",
       "    <tr style=\"text-align: right;\">\n",
       "      <th></th>\n",
       "      <th>&lt;40k</th>\n",
       "      <th>40k-80k</th>\n",
       "      <th>&gt;80k</th>\n",
       "      <th>Refused</th>\n",
       "    </tr>\n",
       "    <tr>\n",
       "      <th>Difficulty Saving</th>\n",
       "      <th></th>\n",
       "      <th></th>\n",
       "      <th></th>\n",
       "      <th></th>\n",
       "    </tr>\n",
       "  </thead>\n",
       "  <tbody>\n",
       "    <tr>\n",
       "      <td>very</td>\n",
       "      <td>128</td>\n",
       "      <td>63</td>\n",
       "      <td>31</td>\n",
       "      <td>9</td>\n",
       "    </tr>\n",
       "    <tr>\n",
       "      <td>somewhat</td>\n",
       "      <td>54</td>\n",
       "      <td>71</td>\n",
       "      <td>61</td>\n",
       "      <td>10</td>\n",
       "    </tr>\n",
       "    <tr>\n",
       "      <td>not very</td>\n",
       "      <td>17</td>\n",
       "      <td>7</td>\n",
       "      <td>27</td>\n",
       "      <td>7</td>\n",
       "    </tr>\n",
       "    <tr>\n",
       "      <td>not at all</td>\n",
       "      <td>3</td>\n",
       "      <td>6</td>\n",
       "      <td>5</td>\n",
       "      <td>0</td>\n",
       "    </tr>\n",
       "    <tr>\n",
       "      <td>not sure</td>\n",
       "      <td>0</td>\n",
       "      <td>1</td>\n",
       "      <td>0</td>\n",
       "      <td>0</td>\n",
       "    </tr>\n",
       "  </tbody>\n",
       "</table>\n",
       "</div>"
      ],
      "text/plain": [
       "                   <40k  40k-80k  >80k  Refused\n",
       "Difficulty Saving                              \n",
       "very                128       63    31        9\n",
       "somewhat             54       71    61       10\n",
       "not very             17        7    27        7\n",
       "not at all            3        6     5        0\n",
       "not sure              0        1     0        0"
      ]
     },
     "execution_count": 147,
     "metadata": {},
     "output_type": "execute_result"
    }
   ],
   "source": [
    "relative_freq_without_total = relative_freq.copy()\n",
    "relative_freq_without_total.drop('Total', axis = 1, inplace = True)\n",
    "relative_freq_without_total.drop('Total', axis = 0, inplace = True)\n",
    "relative_freq_without_total"
   ]
  },
  {
   "cell_type": "code",
   "execution_count": 148,
   "metadata": {},
   "outputs": [
    {
     "data": {
      "text/plain": [
       "<matplotlib.axes._subplots.AxesSubplot at 0xa965094a8>"
      ]
     },
     "execution_count": 148,
     "metadata": {},
     "output_type": "execute_result"
    },
    {
     "data": {
      "image/png": "[encoded data removed]",
      "text/plain": [
       "<Figure size 576x432 with 1 Axes>"
      ]
     },
     "metadata": {},
     "output_type": "display_data"
    }
   ],
   "source": [
    "import seaborn as sns\n",
    "sns.set()\n",
    "\n",
    "relative_freq_without_total.T.plot(kind='barh', stacked=True, figsize=(8,6))\n"
   ]
  },
  {
   "cell_type": "code",
   "execution_count": 149,
   "metadata": {},
   "outputs": [
    {
     "data": {
      "text/plain": [
       "<matplotlib.axes._subplots.AxesSubplot at 0xa9683b0b8>"
      ]
     },
     "execution_count": 149,
     "metadata": {},
     "output_type": "execute_result"
    },
    {
     "data": {
      "image/png": "[encoded data removed]",
      "text/plain": [
       "<Figure size 576x432 with 1 Axes>"
      ]
     },
     "metadata": {},
     "output_type": "display_data"
    }
   ],
   "source": [
    "import seaborn as sns\n",
    "sns.set()\n",
    "\n",
    "relative_freq_without_total.T.plot(kind='bar', stacked=True, figsize=(8,6))\n"
   ]
  },
  {
   "cell_type": "code",
   "execution_count": 150,
   "metadata": {},
   "outputs": [],
   "source": [
    "# Now we'll create bar plot that consist of percentages"
   ]
  },
  {
   "cell_type": "code",
   "execution_count": 151,
   "metadata": {},
   "outputs": [
    {
     "data": {
      "text/plain": [
       "<matplotlib.axes._subplots.AxesSubplot at 0xa968b50b8>"
      ]
     },
     "execution_count": 151,
     "metadata": {},
     "output_type": "execute_result"
    },
    {
     "data": {
      "image/png": "[encoded data removed]",
      "text/plain": [
       "<Figure size 576x432 with 1 Axes>"
      ]
     },
     "metadata": {},
     "output_type": "display_data"
    }
   ],
   "source": [
    "sns.set()\n",
    "\n",
    "col_proportion_table.T.plot(kind='barh', stacked=True, figsize=(8,6))"
   ]
  },
  {
   "cell_type": "code",
   "execution_count": 152,
   "metadata": {},
   "outputs": [
    {
     "data": {
      "text/plain": [
       "<matplotlib.axes._subplots.AxesSubplot at 0xa969a9908>"
      ]
     },
     "execution_count": 152,
     "metadata": {},
     "output_type": "execute_result"
    },
    {
     "data": {
      "image/png": "[encoded data removed]",
      "text/plain": [
       "<Figure size 576x432 with 1 Axes>"
      ]
     },
     "metadata": {},
     "output_type": "display_data"
    }
   ],
   "source": [
    "col_proportion_table.T.plot(kind='bar', stacked=True, figsize=(8,6))"
   ]
  },
  {
   "cell_type": "code",
   "execution_count": 153,
   "metadata": {},
   "outputs": [],
   "source": [
    "# mosaic plots can be more usefull, but I'll create them whenever their need will come."
   ]
  },
  {
   "cell_type": "code",
   "execution_count": 154,
   "metadata": {},
   "outputs": [],
   "source": [
    "# Now make df of e-mail data"
   ]
  },
  {
   "cell_type": "code",
   "execution_count": 155,
   "metadata": {},
   "outputs": [
    {
     "data": {
      "text/html": [
       "<div>\n",
       "<style scoped>\n",
       "    .dataframe tbody tr th:only-of-type {\n",
       "        vertical-align: middle;\n",
       "    }\n",
       "\n",
       "    .dataframe tbody tr th {\n",
       "        vertical-align: top;\n",
       "    }\n",
       "\n",
       "    .dataframe thead th {\n",
       "        text-align: right;\n",
       "    }\n",
       "</style>\n",
       "<table border=\"1\" class=\"dataframe\">\n",
       "  <thead>\n",
       "    <tr style=\"text-align: right;\">\n",
       "      <th></th>\n",
       "      <th>none</th>\n",
       "      <th>small</th>\n",
       "      <th>big</th>\n",
       "      <th>Total</th>\n",
       "    </tr>\n",
       "    <tr>\n",
       "      <th>Category</th>\n",
       "      <th></th>\n",
       "      <th></th>\n",
       "      <th></th>\n",
       "      <th></th>\n",
       "    </tr>\n",
       "  </thead>\n",
       "  <tbody>\n",
       "    <tr>\n",
       "      <td>spam</td>\n",
       "      <td>149</td>\n",
       "      <td>168</td>\n",
       "      <td>50</td>\n",
       "      <td>367</td>\n",
       "    </tr>\n",
       "    <tr>\n",
       "      <td>not spam</td>\n",
       "      <td>400</td>\n",
       "      <td>2659</td>\n",
       "      <td>495</td>\n",
       "      <td>3554</td>\n",
       "    </tr>\n",
       "    <tr>\n",
       "      <td>Total</td>\n",
       "      <td>549</td>\n",
       "      <td>2827</td>\n",
       "      <td>545</td>\n",
       "      <td>3921</td>\n",
       "    </tr>\n",
       "  </tbody>\n",
       "</table>\n",
       "</div>"
      ],
      "text/plain": [
       "          none  small  big  Total\n",
       "Category                         \n",
       "spam       149    168   50    367\n",
       "not spam   400   2659  495   3554\n",
       "Total      549   2827  545   3921"
      ]
     },
     "execution_count": 155,
     "metadata": {},
     "output_type": "execute_result"
    }
   ],
   "source": [
    "category = ['spam', 'not spam']\n",
    "none = [149, 400]\n",
    "small = [168, 2659]\n",
    "big = [50, 495]\n",
    "\n",
    "mail_cat_table = pd.DataFrame({'Category':  category,\n",
    "                              'none': none,\n",
    "                              'small': small,\n",
    "                              'big': big})\n",
    "\n",
    "abc = ['Total', sum(mail_cat_table['none']), sum(mail_cat_table['small']), sum(mail_cat_table['big'])]\n",
    "\n",
    "mail_cat_table = mail_cat_table.append(pd.Series(abc, index=mail_cat_table.columns ), ignore_index=True)\n",
    "\n",
    "mail_cat_table['Total'] = mail_cat_table['none']+mail_cat_table['small']+mail_cat_table['big']\n",
    "\n",
    "mail_cat_table.set_index('Category', inplace = True)\n",
    "\n",
    "mail_cat_table"
   ]
  },
  {
   "cell_type": "markdown",
   "metadata": {},
   "source": [
    "[Go back](#goback)"
   ]
  },
  {
   "cell_type": "markdown",
   "metadata": {},
   "source": [
    "<a id='h8.1'></a>\n",
    "#### 8(i) Row Proportion Function"
   ]
  },
  {
   "cell_type": "code",
   "execution_count": 156,
   "metadata": {},
   "outputs": [],
   "source": [
    "# creating function for row proportion table\n",
    "\n",
    "def make_row_proportion_table(df):\n",
    "\n",
    "    indices = list(df.index)\n",
    "    cols = list(df.columns)\n",
    "    proportion_matrix = []\n",
    "\n",
    "    for i in range(len(indices)-1):\n",
    "\n",
    "        proportions = []\n",
    "\n",
    "        for j in range(len(cols)-1):\n",
    "            proportion = df.loc[indices[i]][cols[j]] / df.loc[indices[i]]['Total'] \n",
    "            proportions.append(round(proportion,2))\n",
    "\n",
    "        proportion_matrix.append(proportions)\n",
    "        \n",
    "\n",
    "        \n",
    "    \n",
    "    del(indices[-1])\n",
    "\n",
    "\n",
    "    del(cols[-1])\n",
    "\n",
    "    row_proportion_table = pd.DataFrame(proportion_matrix, index = indices, columns = cols)\n",
    "    return row_proportion_table"
   ]
  },
  {
   "cell_type": "code",
   "execution_count": 157,
   "metadata": {},
   "outputs": [
    {
     "data": {
      "text/html": [
       "<div>\n",
       "<style scoped>\n",
       "    .dataframe tbody tr th:only-of-type {\n",
       "        vertical-align: middle;\n",
       "    }\n",
       "\n",
       "    .dataframe tbody tr th {\n",
       "        vertical-align: top;\n",
       "    }\n",
       "\n",
       "    .dataframe thead th {\n",
       "        text-align: right;\n",
       "    }\n",
       "</style>\n",
       "<table border=\"1\" class=\"dataframe\">\n",
       "  <thead>\n",
       "    <tr style=\"text-align: right;\">\n",
       "      <th></th>\n",
       "      <th>none</th>\n",
       "      <th>small</th>\n",
       "      <th>big</th>\n",
       "    </tr>\n",
       "  </thead>\n",
       "  <tbody>\n",
       "    <tr>\n",
       "      <td>spam</td>\n",
       "      <td>0.41</td>\n",
       "      <td>0.46</td>\n",
       "      <td>0.14</td>\n",
       "    </tr>\n",
       "    <tr>\n",
       "      <td>not spam</td>\n",
       "      <td>0.11</td>\n",
       "      <td>0.75</td>\n",
       "      <td>0.14</td>\n",
       "    </tr>\n",
       "  </tbody>\n",
       "</table>\n",
       "</div>"
      ],
      "text/plain": [
       "          none  small   big\n",
       "spam      0.41   0.46  0.14\n",
       "not spam  0.11   0.75  0.14"
      ]
     },
     "execution_count": 157,
     "metadata": {},
     "output_type": "execute_result"
    }
   ],
   "source": [
    "make_row_proportion_table(mail_cat_table)"
   ]
  },
  {
   "cell_type": "markdown",
   "metadata": {},
   "source": [
    "[Go back](#goback)"
   ]
  },
  {
   "cell_type": "markdown",
   "metadata": {},
   "source": [
    "<a id='h8.2'></a>\n",
    "#### 8(ii) Column Proportion Function"
   ]
  },
  {
   "cell_type": "code",
   "execution_count": 158,
   "metadata": {},
   "outputs": [],
   "source": [
    "# creating function for col proportion table\n",
    "\n",
    "def make_col_proportion_table(df):\n",
    "\n",
    "    indices = list(df.index)\n",
    "    cols = list(df.columns)\n",
    "    proportion_matrix = []\n",
    "\n",
    "    for i in range(len(indices)-1):\n",
    "\n",
    "        proportions = []\n",
    "\n",
    "        for j in range(len(cols)-1):\n",
    "            proportion = df.loc[indices[i]][cols[j]] / df.loc['Total'][cols[j]] \n",
    "            proportions.append(round(proportion,2))\n",
    "\n",
    "        proportion_matrix.append(proportions)\n",
    "        \n",
    "\n",
    "        \n",
    "    \n",
    "    del(indices[-1])\n",
    "\n",
    "\n",
    "    del(cols[-1])\n",
    "\n",
    "    col_proportion_table = pd.DataFrame(proportion_matrix, index = indices, columns = cols)\n",
    "    return col_proportion_table"
   ]
  },
  {
   "cell_type": "code",
   "execution_count": 159,
   "metadata": {},
   "outputs": [
    {
     "data": {
      "text/html": [
       "<div>\n",
       "<style scoped>\n",
       "    .dataframe tbody tr th:only-of-type {\n",
       "        vertical-align: middle;\n",
       "    }\n",
       "\n",
       "    .dataframe tbody tr th {\n",
       "        vertical-align: top;\n",
       "    }\n",
       "\n",
       "    .dataframe thead th {\n",
       "        text-align: right;\n",
       "    }\n",
       "</style>\n",
       "<table border=\"1\" class=\"dataframe\">\n",
       "  <thead>\n",
       "    <tr style=\"text-align: right;\">\n",
       "      <th></th>\n",
       "      <th>none</th>\n",
       "      <th>small</th>\n",
       "      <th>big</th>\n",
       "    </tr>\n",
       "  </thead>\n",
       "  <tbody>\n",
       "    <tr>\n",
       "      <td>spam</td>\n",
       "      <td>0.27</td>\n",
       "      <td>0.06</td>\n",
       "      <td>0.09</td>\n",
       "    </tr>\n",
       "    <tr>\n",
       "      <td>not spam</td>\n",
       "      <td>0.73</td>\n",
       "      <td>0.94</td>\n",
       "      <td>0.91</td>\n",
       "    </tr>\n",
       "  </tbody>\n",
       "</table>\n",
       "</div>"
      ],
      "text/plain": [
       "          none  small   big\n",
       "spam      0.27   0.06  0.09\n",
       "not spam  0.73   0.94  0.91"
      ]
     },
     "execution_count": 159,
     "metadata": {},
     "output_type": "execute_result"
    }
   ],
   "source": [
    "make_col_proportion_table(mail_cat_table)"
   ]
  },
  {
   "cell_type": "code",
   "execution_count": 160,
   "metadata": {},
   "outputs": [
    {
     "data": {
      "text/html": [
       "<div>\n",
       "<style scoped>\n",
       "    .dataframe tbody tr th:only-of-type {\n",
       "        vertical-align: middle;\n",
       "    }\n",
       "\n",
       "    .dataframe tbody tr th {\n",
       "        vertical-align: top;\n",
       "    }\n",
       "\n",
       "    .dataframe thead th {\n",
       "        text-align: right;\n",
       "    }\n",
       "</style>\n",
       "<table border=\"1\" class=\"dataframe\">\n",
       "  <thead>\n",
       "    <tr style=\"text-align: right;\">\n",
       "      <th></th>\n",
       "      <th>none</th>\n",
       "      <th>small</th>\n",
       "      <th>big</th>\n",
       "    </tr>\n",
       "    <tr>\n",
       "      <th>Category</th>\n",
       "      <th></th>\n",
       "      <th></th>\n",
       "      <th></th>\n",
       "    </tr>\n",
       "  </thead>\n",
       "  <tbody>\n",
       "    <tr>\n",
       "      <td>spam</td>\n",
       "      <td>149</td>\n",
       "      <td>168</td>\n",
       "      <td>50</td>\n",
       "    </tr>\n",
       "    <tr>\n",
       "      <td>not spam</td>\n",
       "      <td>400</td>\n",
       "      <td>2659</td>\n",
       "      <td>495</td>\n",
       "    </tr>\n",
       "  </tbody>\n",
       "</table>\n",
       "</div>"
      ],
      "text/plain": [
       "          none  small  big\n",
       "Category                  \n",
       "spam       149    168   50\n",
       "not spam   400   2659  495"
      ]
     },
     "execution_count": 160,
     "metadata": {},
     "output_type": "execute_result"
    }
   ],
   "source": [
    "mail_cat_table_without_total = mail_cat_table.copy()\n",
    "mail_cat_table_without_total.drop('Total', axis = 1, inplace = True)\n",
    "mail_cat_table_without_total.drop('Total', axis = 0, inplace = True)\n",
    "mail_cat_table_without_total"
   ]
  },
  {
   "cell_type": "markdown",
   "metadata": {},
   "source": [
    "[Go back](#goback)"
   ]
  },
  {
   "cell_type": "markdown",
   "metadata": {},
   "source": [
    "<a id='h9'></a>\n",
    "### 9. Stacked Bar Chart or Segmented bar plot"
   ]
  },
  {
   "cell_type": "markdown",
   "metadata": {},
   "source": [
    "<a id='h9.1'></a>\n",
    "#### 9(i) Stacked Bar Chart with Numbers"
   ]
  },
  {
   "cell_type": "code",
   "execution_count": 161,
   "metadata": {},
   "outputs": [
    {
     "data": {
      "text/plain": [
       "<matplotlib.axes._subplots.AxesSubplot at 0xa96a4e128>"
      ]
     },
     "execution_count": 161,
     "metadata": {},
     "output_type": "execute_result"
    },
    {
     "data": {
      "image/png": "[encoded data removed]",
      "text/plain": [
       "<Figure size 576x432 with 1 Axes>"
      ]
     },
     "metadata": {},
     "output_type": "display_data"
    }
   ],
   "source": [
    "sns.set()\n",
    "\n",
    "mail_cat_table_without_total.T.plot(kind='barh', stacked=True, figsize=(8,6))"
   ]
  },
  {
   "cell_type": "code",
   "execution_count": 162,
   "metadata": {},
   "outputs": [
    {
     "data": {
      "text/plain": [
       "<matplotlib.axes._subplots.AxesSubplot at 0xa96acf358>"
      ]
     },
     "execution_count": 162,
     "metadata": {},
     "output_type": "execute_result"
    },
    {
     "data": {
      "image/png": "[encoded data removed]",
      "text/plain": [
       "<Figure size 576x432 with 1 Axes>"
      ]
     },
     "metadata": {},
     "output_type": "display_data"
    }
   ],
   "source": [
    "mail_cat_table_without_total.T.plot(kind='bar', stacked=True, figsize=(8,6))"
   ]
  },
  {
   "cell_type": "code",
   "execution_count": 163,
   "metadata": {},
   "outputs": [
    {
     "data": {
      "text/html": [
       "<div>\n",
       "<style scoped>\n",
       "    .dataframe tbody tr th:only-of-type {\n",
       "        vertical-align: middle;\n",
       "    }\n",
       "\n",
       "    .dataframe tbody tr th {\n",
       "        vertical-align: top;\n",
       "    }\n",
       "\n",
       "    .dataframe thead th {\n",
       "        text-align: right;\n",
       "    }\n",
       "</style>\n",
       "<table border=\"1\" class=\"dataframe\">\n",
       "  <thead>\n",
       "    <tr style=\"text-align: right;\">\n",
       "      <th></th>\n",
       "      <th>none</th>\n",
       "      <th>small</th>\n",
       "      <th>big</th>\n",
       "    </tr>\n",
       "  </thead>\n",
       "  <tbody>\n",
       "    <tr>\n",
       "      <td>spam</td>\n",
       "      <td>0.27</td>\n",
       "      <td>0.06</td>\n",
       "      <td>0.09</td>\n",
       "    </tr>\n",
       "    <tr>\n",
       "      <td>not spam</td>\n",
       "      <td>0.73</td>\n",
       "      <td>0.94</td>\n",
       "      <td>0.91</td>\n",
       "    </tr>\n",
       "  </tbody>\n",
       "</table>\n",
       "</div>"
      ],
      "text/plain": [
       "          none  small   big\n",
       "spam      0.27   0.06  0.09\n",
       "not spam  0.73   0.94  0.91"
      ]
     },
     "execution_count": 163,
     "metadata": {},
     "output_type": "execute_result"
    }
   ],
   "source": [
    "col_prop_table = make_col_proportion_table(mail_cat_table)\n",
    "col_prop_table"
   ]
  },
  {
   "cell_type": "markdown",
   "metadata": {},
   "source": [
    "[Go back](#goback)"
   ]
  },
  {
   "cell_type": "markdown",
   "metadata": {},
   "source": [
    "<a id='h9.2'></a>\n",
    "#### 9(ii) Stacked Bar chart with proportion"
   ]
  },
  {
   "cell_type": "code",
   "execution_count": 164,
   "metadata": {},
   "outputs": [
    {
     "data": {
      "text/plain": [
       "<matplotlib.axes._subplots.AxesSubplot at 0xa96a3dc18>"
      ]
     },
     "execution_count": 164,
     "metadata": {},
     "output_type": "execute_result"
    },
    {
     "data": {
      "image/png": "[encoded data removed]",
      "text/plain": [
       "<Figure size 576x432 with 1 Axes>"
      ]
     },
     "metadata": {},
     "output_type": "display_data"
    }
   ],
   "source": [
    "col_prop_table.T.plot(kind='barh', stacked=True, figsize=(8,6))"
   ]
  },
  {
   "cell_type": "code",
   "execution_count": 165,
   "metadata": {},
   "outputs": [
    {
     "data": {
      "text/plain": [
       "<matplotlib.axes._subplots.AxesSubplot at 0xa96b89d68>"
      ]
     },
     "execution_count": 165,
     "metadata": {},
     "output_type": "execute_result"
    },
    {
     "data": {
      "image/png": "[encoded data removed]",
      "text/plain": [
       "<Figure size 576x432 with 1 Axes>"
      ]
     },
     "metadata": {},
     "output_type": "display_data"
    }
   ],
   "source": [
    "col_prop_table.T.plot(kind='bar', stacked=True, figsize=(8,6))"
   ]
  },
  {
   "cell_type": "markdown",
   "metadata": {},
   "source": [
    "[Go back](#goback)"
   ]
  },
  {
   "cell_type": "code",
   "execution_count": 166,
   "metadata": {},
   "outputs": [],
   "source": [
    "# Proportion stacked bar chart is more useful for us because it is giving more specific information."
   ]
  },
  {
   "cell_type": "markdown",
   "metadata": {},
   "source": [
    "# Project Ended"
   ]
  }
 ],
 "metadata": {
  "kernelspec": {
   "display_name": "Python 3",
   "language": "python",
   "name": "python3"
  },
  "language_info": {
   "codemirror_mode": {
    "name": "ipython",
    "version": 3
   },
   "file_extension": ".py",
   "mimetype": "text/x-python",
   "name": "python",
   "nbconvert_exporter": "python",
   "pygments_lexer": "ipython3",
   "version": "3.7.3"
  }
 },
 "nbformat": 4,
 "nbformat_minor": 2
}
